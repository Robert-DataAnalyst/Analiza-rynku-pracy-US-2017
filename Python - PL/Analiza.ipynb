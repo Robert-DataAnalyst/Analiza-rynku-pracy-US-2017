{
 "cells": [
  {
   "attachments": {},
   "cell_type": "markdown",
   "metadata": {},
   "source": [
    "##### Aby uruchomić poniższy kod, należy użyć pip:\n",
    "###### pipenv install - aby zainstalować wszystkie potrzebne biblioteki i zależności\n",
    "###### pipenv shell - aby wybrać to środowisko wirtualne\n",
    "###### pipenv --rm - aby usunąć środowisko wirtualne/kernel po zakończeniu instalacji"
   ]
  },
  {
   "cell_type": "markdown",
   "metadata": {},
   "source": [
    "##### Importowanie wszystkich niezbędnych bibliotek"
   ]
  },
  {
   "cell_type": "code",
   "execution_count": 1,
   "metadata": {},
   "outputs": [],
   "source": [
    "import pandas as pd\n",
    "import numpy as np\n",
    "import matplotlib.pyplot as plt\n",
    "%matplotlib inline"
   ]
  },
  {
   "attachments": {},
   "cell_type": "markdown",
   "metadata": {},
   "source": [
    "##### Otwarcie pliku Excel i wykonanie kopii, aby zachować oryginał w razie jakichkolwiek problemów"
   ]
  },
  {
   "cell_type": "code",
   "execution_count": 2,
   "metadata": {},
   "outputs": [],
   "source": [
    "główny_df = pd.read_csv(\"./Zrodlo.csv\")\n",
    "kopia_df = główny_df.copy()"
   ]
  },
  {
   "attachments": {},
   "cell_type": "markdown",
   "metadata": {},
   "source": [
    "##### Sprawdzanie szczegółów df"
   ]
  },
  {
   "cell_type": "code",
   "execution_count": 3,
   "metadata": {},
   "outputs": [
    {
     "data": {
      "text/html": [
       "<div>\n",
       "<style scoped>\n",
       "    .dataframe tbody tr th:only-of-type {\n",
       "        vertical-align: middle;\n",
       "    }\n",
       "\n",
       "    .dataframe tbody tr th {\n",
       "        vertical-align: top;\n",
       "    }\n",
       "\n",
       "    .dataframe thead th {\n",
       "        text-align: right;\n",
       "    }\n",
       "</style>\n",
       "<table border=\"1\" class=\"dataframe\">\n",
       "  <thead>\n",
       "    <tr style=\"text-align: right;\">\n",
       "      <th></th>\n",
       "      <th>Unnamed: 0</th>\n",
       "      <th>Rating</th>\n",
       "      <th>Founded</th>\n",
       "      <th>hourly</th>\n",
       "      <th>employer_provided</th>\n",
       "      <th>min_salary</th>\n",
       "      <th>max_salary</th>\n",
       "      <th>avg_salary</th>\n",
       "      <th>same_state</th>\n",
       "      <th>age</th>\n",
       "      <th>python_yn</th>\n",
       "      <th>R_yn</th>\n",
       "      <th>spark</th>\n",
       "      <th>aws</th>\n",
       "      <th>excel</th>\n",
       "      <th>desc_len</th>\n",
       "      <th>num_comp</th>\n",
       "    </tr>\n",
       "  </thead>\n",
       "  <tbody>\n",
       "    <tr>\n",
       "      <th>count</th>\n",
       "      <td>742.000000</td>\n",
       "      <td>742.000000</td>\n",
       "      <td>742.000000</td>\n",
       "      <td>742.000000</td>\n",
       "      <td>742.000000</td>\n",
       "      <td>742.000000</td>\n",
       "      <td>742.000000</td>\n",
       "      <td>742.000000</td>\n",
       "      <td>742.000000</td>\n",
       "      <td>742.000000</td>\n",
       "      <td>742.000000</td>\n",
       "      <td>742.000000</td>\n",
       "      <td>742.000000</td>\n",
       "      <td>742.000000</td>\n",
       "      <td>742.000000</td>\n",
       "      <td>742.000000</td>\n",
       "      <td>742.000000</td>\n",
       "    </tr>\n",
       "    <tr>\n",
       "      <th>mean</th>\n",
       "      <td>370.500000</td>\n",
       "      <td>3.618868</td>\n",
       "      <td>1837.154987</td>\n",
       "      <td>0.032345</td>\n",
       "      <td>0.022911</td>\n",
       "      <td>74.719677</td>\n",
       "      <td>128.149596</td>\n",
       "      <td>100.626011</td>\n",
       "      <td>0.557951</td>\n",
       "      <td>46.591644</td>\n",
       "      <td>0.528302</td>\n",
       "      <td>0.002695</td>\n",
       "      <td>0.225067</td>\n",
       "      <td>0.237197</td>\n",
       "      <td>0.522911</td>\n",
       "      <td>3869.545822</td>\n",
       "      <td>1.053908</td>\n",
       "    </tr>\n",
       "    <tr>\n",
       "      <th>std</th>\n",
       "      <td>214.341239</td>\n",
       "      <td>0.801210</td>\n",
       "      <td>497.183763</td>\n",
       "      <td>0.177034</td>\n",
       "      <td>0.149721</td>\n",
       "      <td>30.980593</td>\n",
       "      <td>45.220324</td>\n",
       "      <td>38.855948</td>\n",
       "      <td>0.496965</td>\n",
       "      <td>53.778815</td>\n",
       "      <td>0.499535</td>\n",
       "      <td>0.051882</td>\n",
       "      <td>0.417908</td>\n",
       "      <td>0.425651</td>\n",
       "      <td>0.499812</td>\n",
       "      <td>1521.495868</td>\n",
       "      <td>1.384239</td>\n",
       "    </tr>\n",
       "    <tr>\n",
       "      <th>min</th>\n",
       "      <td>0.000000</td>\n",
       "      <td>-1.000000</td>\n",
       "      <td>-1.000000</td>\n",
       "      <td>0.000000</td>\n",
       "      <td>0.000000</td>\n",
       "      <td>15.000000</td>\n",
       "      <td>16.000000</td>\n",
       "      <td>13.500000</td>\n",
       "      <td>0.000000</td>\n",
       "      <td>-1.000000</td>\n",
       "      <td>0.000000</td>\n",
       "      <td>0.000000</td>\n",
       "      <td>0.000000</td>\n",
       "      <td>0.000000</td>\n",
       "      <td>0.000000</td>\n",
       "      <td>407.000000</td>\n",
       "      <td>0.000000</td>\n",
       "    </tr>\n",
       "    <tr>\n",
       "      <th>25%</th>\n",
       "      <td>185.250000</td>\n",
       "      <td>3.300000</td>\n",
       "      <td>1939.000000</td>\n",
       "      <td>0.000000</td>\n",
       "      <td>0.000000</td>\n",
       "      <td>52.000000</td>\n",
       "      <td>96.000000</td>\n",
       "      <td>73.500000</td>\n",
       "      <td>0.000000</td>\n",
       "      <td>11.000000</td>\n",
       "      <td>0.000000</td>\n",
       "      <td>0.000000</td>\n",
       "      <td>0.000000</td>\n",
       "      <td>0.000000</td>\n",
       "      <td>0.000000</td>\n",
       "      <td>2801.000000</td>\n",
       "      <td>0.000000</td>\n",
       "    </tr>\n",
       "    <tr>\n",
       "      <th>50%</th>\n",
       "      <td>370.500000</td>\n",
       "      <td>3.700000</td>\n",
       "      <td>1988.000000</td>\n",
       "      <td>0.000000</td>\n",
       "      <td>0.000000</td>\n",
       "      <td>69.500000</td>\n",
       "      <td>124.000000</td>\n",
       "      <td>97.500000</td>\n",
       "      <td>1.000000</td>\n",
       "      <td>24.000000</td>\n",
       "      <td>1.000000</td>\n",
       "      <td>0.000000</td>\n",
       "      <td>0.000000</td>\n",
       "      <td>0.000000</td>\n",
       "      <td>1.000000</td>\n",
       "      <td>3731.000000</td>\n",
       "      <td>0.000000</td>\n",
       "    </tr>\n",
       "    <tr>\n",
       "      <th>75%</th>\n",
       "      <td>555.750000</td>\n",
       "      <td>4.000000</td>\n",
       "      <td>2007.000000</td>\n",
       "      <td>0.000000</td>\n",
       "      <td>0.000000</td>\n",
       "      <td>91.000000</td>\n",
       "      <td>155.000000</td>\n",
       "      <td>122.500000</td>\n",
       "      <td>1.000000</td>\n",
       "      <td>59.000000</td>\n",
       "      <td>1.000000</td>\n",
       "      <td>0.000000</td>\n",
       "      <td>0.000000</td>\n",
       "      <td>0.000000</td>\n",
       "      <td>1.000000</td>\n",
       "      <td>4740.000000</td>\n",
       "      <td>3.000000</td>\n",
       "    </tr>\n",
       "    <tr>\n",
       "      <th>max</th>\n",
       "      <td>741.000000</td>\n",
       "      <td>5.000000</td>\n",
       "      <td>2019.000000</td>\n",
       "      <td>1.000000</td>\n",
       "      <td>1.000000</td>\n",
       "      <td>202.000000</td>\n",
       "      <td>306.000000</td>\n",
       "      <td>254.000000</td>\n",
       "      <td>1.000000</td>\n",
       "      <td>276.000000</td>\n",
       "      <td>1.000000</td>\n",
       "      <td>1.000000</td>\n",
       "      <td>1.000000</td>\n",
       "      <td>1.000000</td>\n",
       "      <td>1.000000</td>\n",
       "      <td>10051.000000</td>\n",
       "      <td>4.000000</td>\n",
       "    </tr>\n",
       "  </tbody>\n",
       "</table>\n",
       "</div>"
      ],
      "text/plain": [
       "       Unnamed: 0      Rating      Founded      hourly  employer_provided  \\\n",
       "count  742.000000  742.000000   742.000000  742.000000         742.000000   \n",
       "mean   370.500000    3.618868  1837.154987    0.032345           0.022911   \n",
       "std    214.341239    0.801210   497.183763    0.177034           0.149721   \n",
       "min      0.000000   -1.000000    -1.000000    0.000000           0.000000   \n",
       "25%    185.250000    3.300000  1939.000000    0.000000           0.000000   \n",
       "50%    370.500000    3.700000  1988.000000    0.000000           0.000000   \n",
       "75%    555.750000    4.000000  2007.000000    0.000000           0.000000   \n",
       "max    741.000000    5.000000  2019.000000    1.000000           1.000000   \n",
       "\n",
       "       min_salary  max_salary  avg_salary  same_state         age   python_yn  \\\n",
       "count  742.000000  742.000000  742.000000  742.000000  742.000000  742.000000   \n",
       "mean    74.719677  128.149596  100.626011    0.557951   46.591644    0.528302   \n",
       "std     30.980593   45.220324   38.855948    0.496965   53.778815    0.499535   \n",
       "min     15.000000   16.000000   13.500000    0.000000   -1.000000    0.000000   \n",
       "25%     52.000000   96.000000   73.500000    0.000000   11.000000    0.000000   \n",
       "50%     69.500000  124.000000   97.500000    1.000000   24.000000    1.000000   \n",
       "75%     91.000000  155.000000  122.500000    1.000000   59.000000    1.000000   \n",
       "max    202.000000  306.000000  254.000000    1.000000  276.000000    1.000000   \n",
       "\n",
       "             R_yn       spark         aws       excel      desc_len  \\\n",
       "count  742.000000  742.000000  742.000000  742.000000    742.000000   \n",
       "mean     0.002695    0.225067    0.237197    0.522911   3869.545822   \n",
       "std      0.051882    0.417908    0.425651    0.499812   1521.495868   \n",
       "min      0.000000    0.000000    0.000000    0.000000    407.000000   \n",
       "25%      0.000000    0.000000    0.000000    0.000000   2801.000000   \n",
       "50%      0.000000    0.000000    0.000000    1.000000   3731.000000   \n",
       "75%      0.000000    0.000000    0.000000    1.000000   4740.000000   \n",
       "max      1.000000    1.000000    1.000000    1.000000  10051.000000   \n",
       "\n",
       "         num_comp  \n",
       "count  742.000000  \n",
       "mean     1.053908  \n",
       "std      1.384239  \n",
       "min      0.000000  \n",
       "25%      0.000000  \n",
       "50%      0.000000  \n",
       "75%      3.000000  \n",
       "max      4.000000  "
      ]
     },
     "execution_count": 3,
     "metadata": {},
     "output_type": "execute_result"
    }
   ],
   "source": [
    "kopia_df.describe()"
   ]
  },
  {
   "cell_type": "code",
   "execution_count": 4,
   "metadata": {},
   "outputs": [
    {
     "name": "stdout",
     "output_type": "stream",
     "text": [
      "<class 'pandas.core.frame.DataFrame'>\n",
      "RangeIndex: 742 entries, 0 to 741\n",
      "Data columns (total 33 columns):\n",
      " #   Column             Non-Null Count  Dtype  \n",
      "---  ------             --------------  -----  \n",
      " 0   Unnamed: 0         742 non-null    int64  \n",
      " 1   Job Title          742 non-null    object \n",
      " 2   Salary Estimate    742 non-null    object \n",
      " 3   Job Description    742 non-null    object \n",
      " 4   Rating             742 non-null    float64\n",
      " 5   Company Name       742 non-null    object \n",
      " 6   Location           742 non-null    object \n",
      " 7   Headquarters       742 non-null    object \n",
      " 8   Size               742 non-null    object \n",
      " 9   Founded            742 non-null    int64  \n",
      " 10  Type of ownership  742 non-null    object \n",
      " 11  Industry           742 non-null    object \n",
      " 12  Sector             742 non-null    object \n",
      " 13  Revenue            742 non-null    object \n",
      " 14  Competitors        742 non-null    object \n",
      " 15  hourly             742 non-null    int64  \n",
      " 16  employer_provided  742 non-null    int64  \n",
      " 17  min_salary         742 non-null    int64  \n",
      " 18  max_salary         742 non-null    int64  \n",
      " 19  avg_salary         742 non-null    float64\n",
      " 20  company_txt        742 non-null    object \n",
      " 21  job_state          742 non-null    object \n",
      " 22  same_state         742 non-null    int64  \n",
      " 23  age                742 non-null    int64  \n",
      " 24  python_yn          742 non-null    int64  \n",
      " 25  R_yn               742 non-null    int64  \n",
      " 26  spark              742 non-null    int64  \n",
      " 27  aws                742 non-null    int64  \n",
      " 28  excel              742 non-null    int64  \n",
      " 29  job_simp           742 non-null    object \n",
      " 30  seniority          742 non-null    object \n",
      " 31  desc_len           742 non-null    int64  \n",
      " 32  num_comp           742 non-null    int64  \n",
      "dtypes: float64(2), int64(15), object(16)\n",
      "memory usage: 191.4+ KB\n"
     ]
    }
   ],
   "source": [
    "kopia_df.info()"
   ]
  },
  {
   "cell_type": "code",
   "execution_count": 5,
   "metadata": {},
   "outputs": [
    {
     "data": {
      "text/plain": [
       "Index(['Unnamed: 0', 'Job Title', 'Salary Estimate', 'Job Description',\n",
       "       'Rating', 'Company Name', 'Location', 'Headquarters', 'Size', 'Founded',\n",
       "       'Type of ownership', 'Industry', 'Sector', 'Revenue', 'Competitors',\n",
       "       'hourly', 'employer_provided', 'min_salary', 'max_salary', 'avg_salary',\n",
       "       'company_txt', 'job_state', 'same_state', 'age', 'python_yn', 'R_yn',\n",
       "       'spark', 'aws', 'excel', 'job_simp', 'seniority', 'desc_len',\n",
       "       'num_comp'],\n",
       "      dtype='object')"
      ]
     },
     "execution_count": 5,
     "metadata": {},
     "output_type": "execute_result"
    }
   ],
   "source": [
    "kopia_df.columns"
   ]
  },
  {
   "attachments": {},
   "cell_type": "markdown",
   "metadata": {},
   "source": [
    "#### Czyszczenie danych"
   ]
  },
  {
   "attachments": {},
   "cell_type": "markdown",
   "metadata": {},
   "source": [
    "###### Podstawowe czyszczenie"
   ]
  },
  {
   "cell_type": "code",
   "execution_count": 6,
   "metadata": {},
   "outputs": [
    {
     "data": {
      "text/plain": [
       "Index(['Job Title', 'Salary Estimate', 'Rating', 'Company Name', 'Location',\n",
       "       'Headquarters', 'Size', 'Founded', 'Industry', 'Sector', 'Revenue',\n",
       "       'hourly', 'min_salary', 'max_salary', 'avg_salary', 'job_state'],\n",
       "      dtype='object')"
      ]
     },
     "execution_count": 6,
     "metadata": {},
     "output_type": "execute_result"
    }
   ],
   "source": [
    "##Najpierw usuwam zbędne kolumny\n",
    "\n",
    "kopia_df.drop([\"Unnamed: 0\", \"Job Description\", \"Type of ownership\", \"Competitors\", \n",
    "\"employer_provided\", \"company_txt\", \"same_state\", \"age\", \"python_yn\", \"R_yn\", \n",
    "\"spark\", \"aws\", \"excel\", \"job_simp\", \"seniority\", \"desc_len\", \"num_comp\"], axis=1, inplace=True)\n",
    "\n",
    "kopia_df.columns"
   ]
  },
  {
   "cell_type": "code",
   "execution_count": 7,
   "metadata": {},
   "outputs": [
    {
     "data": {
      "text/html": [
       "<div>\n",
       "<style scoped>\n",
       "    .dataframe tbody tr th:only-of-type {\n",
       "        vertical-align: middle;\n",
       "    }\n",
       "\n",
       "    .dataframe tbody tr th {\n",
       "        vertical-align: top;\n",
       "    }\n",
       "\n",
       "    .dataframe thead th {\n",
       "        text-align: right;\n",
       "    }\n",
       "</style>\n",
       "<table border=\"1\" class=\"dataframe\">\n",
       "  <thead>\n",
       "    <tr style=\"text-align: right;\">\n",
       "      <th></th>\n",
       "      <th>Job Title</th>\n",
       "      <th>Salary Estimate</th>\n",
       "      <th>Rating</th>\n",
       "      <th>Company Name</th>\n",
       "      <th>Location</th>\n",
       "      <th>Headquarters</th>\n",
       "      <th>Size</th>\n",
       "      <th>Founded</th>\n",
       "      <th>Industry</th>\n",
       "      <th>Sector</th>\n",
       "      <th>Revenue</th>\n",
       "      <th>hourly</th>\n",
       "      <th>min_salary</th>\n",
       "      <th>max_salary</th>\n",
       "      <th>avg_salary</th>\n",
       "      <th>job_state</th>\n",
       "    </tr>\n",
       "  </thead>\n",
       "  <tbody>\n",
       "  </tbody>\n",
       "</table>\n",
       "</div>"
      ],
      "text/plain": [
       "Empty DataFrame\n",
       "Columns: [Job Title, Salary Estimate, Rating, Company Name, Location, Headquarters, Size, Founded, Industry, Sector, Revenue, hourly, min_salary, max_salary, avg_salary, job_state]\n",
       "Index: []"
      ]
     },
     "execution_count": 7,
     "metadata": {},
     "output_type": "execute_result"
    }
   ],
   "source": [
    "##Sprawdzenie czy w kolumnach są wartości na\n",
    "\n",
    "kopia_df[kopia_df.isna().any(axis=1)]"
   ]
  },
  {
   "cell_type": "code",
   "execution_count": 8,
   "metadata": {},
   "outputs": [],
   "source": [
    "##Następnie upewniam się, że wyczyściłem wszystkie puste przestrzenie dla wszystkich wartości słownych, aby uniknąć błędów\n",
    "\n",
    "kopia_df = kopia_df.applymap(lambda x: x.strip() if type(x) == str else x)"
   ]
  },
  {
   "cell_type": "code",
   "execution_count": 9,
   "metadata": {},
   "outputs": [
    {
     "data": {
      "text/html": [
       "<div>\n",
       "<style scoped>\n",
       "    .dataframe tbody tr th:only-of-type {\n",
       "        vertical-align: middle;\n",
       "    }\n",
       "\n",
       "    .dataframe tbody tr th {\n",
       "        vertical-align: top;\n",
       "    }\n",
       "\n",
       "    .dataframe thead th {\n",
       "        text-align: right;\n",
       "    }\n",
       "</style>\n",
       "<table border=\"1\" class=\"dataframe\">\n",
       "  <thead>\n",
       "    <tr style=\"text-align: right;\">\n",
       "      <th></th>\n",
       "      <th>Job Title</th>\n",
       "      <th>Salary Estimate</th>\n",
       "      <th>Rating</th>\n",
       "      <th>Company Name</th>\n",
       "      <th>Location</th>\n",
       "      <th>Headquarters</th>\n",
       "      <th>Size</th>\n",
       "      <th>Founded</th>\n",
       "      <th>Industry</th>\n",
       "      <th>Sector</th>\n",
       "      <th>Revenue</th>\n",
       "      <th>hourly</th>\n",
       "      <th>min_salary</th>\n",
       "      <th>max_salary</th>\n",
       "      <th>avg_salary</th>\n",
       "      <th>job_state</th>\n",
       "    </tr>\n",
       "  </thead>\n",
       "  <tbody>\n",
       "    <tr>\n",
       "      <th>390</th>\n",
       "      <td>Managing Data Scientist/ML Engineer</td>\n",
       "      <td>$81K-$134K (Glassdoor est.)</td>\n",
       "      <td>3.4</td>\n",
       "      <td>PA Consulting\\n3.4</td>\n",
       "      <td>Boston, MA</td>\n",
       "      <td>London, United Kingdom</td>\n",
       "      <td>1001 to 5000 employees</td>\n",
       "      <td>1943</td>\n",
       "      <td>Consulting</td>\n",
       "      <td>Business Services</td>\n",
       "      <td>$100 to $500 million (USD)</td>\n",
       "      <td>0</td>\n",
       "      <td>81</td>\n",
       "      <td>134</td>\n",
       "      <td>107.5</td>\n",
       "      <td>MA</td>\n",
       "    </tr>\n",
       "    <tr>\n",
       "      <th>13</th>\n",
       "      <td>Data Analyst</td>\n",
       "      <td>$46K-$85K (Glassdoor est.)</td>\n",
       "      <td>4.1</td>\n",
       "      <td>Yesler\\n4.1</td>\n",
       "      <td>Seattle, WA</td>\n",
       "      <td>Seattle, WA</td>\n",
       "      <td>201 to 500 employees</td>\n",
       "      <td>2012</td>\n",
       "      <td>Advertising &amp; Marketing</td>\n",
       "      <td>Business Services</td>\n",
       "      <td>Unknown / Non-Applicable</td>\n",
       "      <td>0</td>\n",
       "      <td>46</td>\n",
       "      <td>85</td>\n",
       "      <td>65.5</td>\n",
       "      <td>WA</td>\n",
       "    </tr>\n",
       "  </tbody>\n",
       "</table>\n",
       "</div>"
      ],
      "text/plain": [
       "                               Job Title              Salary Estimate  Rating  \\\n",
       "390  Managing Data Scientist/ML Engineer  $81K-$134K (Glassdoor est.)     3.4   \n",
       "13                          Data Analyst   $46K-$85K (Glassdoor est.)     4.1   \n",
       "\n",
       "           Company Name     Location            Headquarters  \\\n",
       "390  PA Consulting\\n3.4   Boston, MA  London, United Kingdom   \n",
       "13          Yesler\\n4.1  Seattle, WA             Seattle, WA   \n",
       "\n",
       "                       Size  Founded                 Industry  \\\n",
       "390  1001 to 5000 employees     1943               Consulting   \n",
       "13     201 to 500 employees     2012  Advertising & Marketing   \n",
       "\n",
       "                Sector                     Revenue  hourly  min_salary  \\\n",
       "390  Business Services  $100 to $500 million (USD)       0          81   \n",
       "13   Business Services    Unknown / Non-Applicable       0          46   \n",
       "\n",
       "     max_salary  avg_salary job_state  \n",
       "390         134       107.5        MA  \n",
       "13           85        65.5        WA  "
      ]
     },
     "execution_count": 9,
     "metadata": {},
     "output_type": "execute_result"
    }
   ],
   "source": [
    "kopia_df.sample(2)"
   ]
  },
  {
   "attachments": {},
   "cell_type": "markdown",
   "metadata": {},
   "source": [
    "###### Czyszczenie df na podstawie kolumny \"Hourly\""
   ]
  },
  {
   "cell_type": "code",
   "execution_count": 10,
   "metadata": {},
   "outputs": [
    {
     "name": "stdout",
     "output_type": "stream",
     "text": [
      "[0 1]\n"
     ]
    }
   ],
   "source": [
    "##Najpierw sprawdzamy, jakie wartości znajdują się w kolumnie \"hourly\", \n",
    "##a następnie wybieramy tylko te, które pokazują wynagrodzenie jako średnie w skali roku\n",
    "\n",
    "print(kopia_df['hourly'].unique())\n",
    "\n",
    "kopia_df = kopia_df[~(kopia_df[\"hourly\"] == 1)]"
   ]
  },
  {
   "attachments": {},
   "cell_type": "markdown",
   "metadata": {},
   "source": [
    "##### Czyszczenie i transformowanie wartości w ważnych kolumnach\n",
    "###### Czyszczenie kolumny \"Location\""
   ]
  },
  {
   "cell_type": "code",
   "execution_count": 11,
   "metadata": {},
   "outputs": [
    {
     "name": "stdout",
     "output_type": "stream",
     "text": [
      "(194,)\n",
      "False    718\n",
      "Name: Location, dtype: int64\n"
     ]
    },
    {
     "data": {
      "text/plain": [
       "True    718\n",
       "Name: Location, dtype: int64"
      ]
     },
     "execution_count": 11,
     "metadata": {},
     "output_type": "execute_result"
    }
   ],
   "source": [
    "##Sprawdzenie ile unikalnych wartości znajduje się w kolumnie \"Location\"\n",
    "print(kopia_df[\"Location\"].unique().shape)\n",
    "\n",
    "##Ponieważ jest zbyt wiele unikalnych wartości, aby sprawdzić je ręcznie, \n",
    "##sprawdzamy czy nie ma dziwnych wartości w kolumnie \"Location\" używając poniższej metody\n",
    "print(kopia_df[\"Location\"].isin([\"N/A\", \"Not-Applicable\", \"Not/Applicable\", \"n/a\", \"na\", \"Unknown\",\n",
    "                        \"Unknown / Not-Applicable\", \"Unknown / Non-Applicable\", \"Unknown/Not-Applicable\", \n",
    "                        \"Unknown/Non-Applicable\"]).value_counts())\n",
    "\n",
    "\n",
    "##Teraz upewniam się, że wszystkie wartości są alfabetyczne\n",
    "kopia_df[\"Location\"].str.replace(\"\\W\", \"\", regex=True).str.isalpha().value_counts()\n"
   ]
  },
  {
   "attachments": {},
   "cell_type": "markdown",
   "metadata": {},
   "source": [
    "###### Zmiana kolumny \"Location\" tak, aby była podzielona na miasto i stan"
   ]
  },
  {
   "cell_type": "code",
   "execution_count": 12,
   "metadata": {},
   "outputs": [
    {
     "data": {
      "text/html": [
       "<div>\n",
       "<style scoped>\n",
       "    .dataframe tbody tr th:only-of-type {\n",
       "        vertical-align: middle;\n",
       "    }\n",
       "\n",
       "    .dataframe tbody tr th {\n",
       "        vertical-align: top;\n",
       "    }\n",
       "\n",
       "    .dataframe thead th {\n",
       "        text-align: right;\n",
       "    }\n",
       "</style>\n",
       "<table border=\"1\" class=\"dataframe\">\n",
       "  <thead>\n",
       "    <tr style=\"text-align: right;\">\n",
       "      <th></th>\n",
       "      <th>0</th>\n",
       "      <th>1</th>\n",
       "      <th>2</th>\n",
       "    </tr>\n",
       "  </thead>\n",
       "  <tbody>\n",
       "    <tr>\n",
       "      <th>0</th>\n",
       "      <td>Albuquerque</td>\n",
       "      <td>NM</td>\n",
       "      <td>None</td>\n",
       "    </tr>\n",
       "    <tr>\n",
       "      <th>1</th>\n",
       "      <td>Linthicum</td>\n",
       "      <td>MD</td>\n",
       "      <td>None</td>\n",
       "    </tr>\n",
       "    <tr>\n",
       "      <th>2</th>\n",
       "      <td>Clearwater</td>\n",
       "      <td>FL</td>\n",
       "      <td>None</td>\n",
       "    </tr>\n",
       "  </tbody>\n",
       "</table>\n",
       "</div>"
      ],
      "text/plain": [
       "             0    1     2\n",
       "0  Albuquerque   NM  None\n",
       "1    Linthicum   MD  None\n",
       "2   Clearwater   FL  None"
      ]
     },
     "execution_count": 12,
     "metadata": {},
     "output_type": "execute_result"
    }
   ],
   "source": [
    "##Podzielenie kolumny \"Location\" za pomocą \",\" i przypisanie jej do nowej zmiennej, po to, aby ułatwić kontrolę\n",
    "miasto_stan = kopia_df[\"Location\"].str.split(\",\", expand=True)\n",
    "miasto_stan.head(3)"
   ]
  },
  {
   "cell_type": "code",
   "execution_count": 13,
   "metadata": {},
   "outputs": [
    {
     "name": "stdout",
     "output_type": "stream",
     "text": [
      "       Lokacja-Miasto  Lokacja-Stan Lokacja-Nieznane\n",
      "126  Santa Fe Springs   Los Angeles               CA\n",
      "    Lokacja-Miasto Lokacja-Stan  Lokacja-Nieznane\n",
      "126    Los Angeles           CA  Santa Fe Springs\n"
     ]
    },
    {
     "data": {
      "text/html": [
       "<div>\n",
       "<style scoped>\n",
       "    .dataframe tbody tr th:only-of-type {\n",
       "        vertical-align: middle;\n",
       "    }\n",
       "\n",
       "    .dataframe tbody tr th {\n",
       "        vertical-align: top;\n",
       "    }\n",
       "\n",
       "    .dataframe thead th {\n",
       "        text-align: right;\n",
       "    }\n",
       "</style>\n",
       "<table border=\"1\" class=\"dataframe\">\n",
       "  <thead>\n",
       "    <tr style=\"text-align: right;\">\n",
       "      <th></th>\n",
       "      <th>Lokacja-Miasto</th>\n",
       "      <th>Lokacja-Stan</th>\n",
       "    </tr>\n",
       "  </thead>\n",
       "  <tbody>\n",
       "    <tr>\n",
       "      <th>126</th>\n",
       "      <td>Los Angeles</td>\n",
       "      <td>CA</td>\n",
       "    </tr>\n",
       "  </tbody>\n",
       "</table>\n",
       "</div>"
      ],
      "text/plain": [
       "    Lokacja-Miasto Lokacja-Stan\n",
       "126    Los Angeles           CA"
      ]
     },
     "execution_count": 13,
     "metadata": {},
     "output_type": "execute_result"
    }
   ],
   "source": [
    "##Po pierwsze, zmieniam nazwy kolumn\n",
    "miasto_stan.rename(columns={0: \"Lokacja-Miasto\", 1: \"Lokacja-Stan\", 2: \"Lokacja-Nieznane\"}, inplace=True)\n",
    "\n",
    "##Teraz sprawdzam, które kolumny maja wartości NA, co później pozwoli nam na znalezienie wierszy z wartościami NA\n",
    "##Prawidłowa liczba wierszy powinna wynosić 718, więc jeśli liczba wyniesie poniżej 718\n",
    "##oznacza to, że w tej kolumnie znajdują się wartości NA.\n",
    "miasto_stan[pd.isna(miasto_stan[\"Lokacja-Miasto\"])].index.value_counts().sum()\n",
    "miasto_stan[pd.isna(miasto_stan[\"Lokacja-Stan\"])].index.value_counts().sum()\n",
    "miasto_stan[pd.isna(miasto_stan[\"Lokacja-Nieznane\"])].index.value_counts().sum()\n",
    "\n",
    "##Ponieważ poprzedni kod zwrócił 717 dla kolumny \"Lokacja-Nieznane\", sprawdzam\n",
    "##które wiersze wpłynęły na wynik w kolumnie \"Lokacja-Nieznane\"\n",
    "indeks_niena = miasto_stan[~pd.isna(miasto_stan[\"Lokacja-Nieznane\"])].index\n",
    "wiersze_z_niepop_wart = miasto_stan.loc[indeks_niena]\n",
    "print(wiersze_z_niepop_wart)\n",
    "\n",
    "##Powyższy kod zwrócił tylko jeden wiersz, który miał wpływ na wynik. W tej sytuacji, zwykła zmiana kolejności\n",
    "##wartości, powinna naprawić problem\n",
    "miasto_stan.loc[[126]] = wiersze_z_niepop_wart[[\"Lokacja-Stan\", \"Lokacja-Nieznane\", \"Lokacja-Miasto\"]]\n",
    "print(miasto_stan.loc[[126]])\n",
    "\n",
    "##Po zmianie kolejności nieprawidłowego wiersza, usuwam zbędną kolumnę, która została utworzona tylko\n",
    "##z powodu tego 1 wiersza. Sprawdzam czy poprzedni wiersz pokazuje się teraz poprawnie.\n",
    "miasto_stan.drop(\"Lokacja-Nieznane\", inplace=True, axis=1)\n",
    "miasto_stan.loc[[126]]"
   ]
  },
  {
   "attachments": {},
   "cell_type": "markdown",
   "metadata": {},
   "source": [
    "###### Sprawdzanie wartości z kolumny \"Lokacja-Stan\" poprzez porównanie ich do wartości z kolumny \"job_state\", która była już obecna w danych"
   ]
  },
  {
   "cell_type": "code",
   "execution_count": 14,
   "metadata": {},
   "outputs": [
    {
     "name": "stdout",
     "output_type": "stream",
     "text": [
      "False\n"
     ]
    },
    {
     "data": {
      "text/plain": [
       "True"
      ]
     },
     "execution_count": 14,
     "metadata": {},
     "output_type": "execute_result"
    }
   ],
   "source": [
    "##Porównanie wartości z obu kolumn \n",
    "print((miasto_stan[\"Lokacja-Stan\"] == kopia_df[\"job_state\"]).all(axis=0))\n",
    "\n",
    "##Ponieważ wyszedł błąd, sprawdzenie pierwszych rzędów\n",
    "miasto_stan[\"Lokacja-Stan\"][0]\n",
    "kopia_df[\"job_state\"][0]\n",
    "\n",
    "#Wydaje się, że w kolumnie \"Lokacja-Stan\" jest dodatkowa spacja po lewej stronie wartości.\n",
    "##Więc usuwajam ją z Państw, a prewencyjnie, również z kolumny Miasto.\n",
    "miasto_stan[\"Lokacja-Miasto\"] = miasto_stan[\"Lokacja-Miasto\"].str.lstrip()\n",
    "miasto_stan[\"Lokacja-Stan\"] = miasto_stan[\"Lokacja-Stan\"].str.lstrip()\n",
    "\n",
    "##Ponowne porównanie\n",
    "(miasto_stan[\"Lokacja-Stan\"] == kopia_df[\"job_state\"]).all(axis=0)"
   ]
  },
  {
   "attachments": {},
   "cell_type": "markdown",
   "metadata": {},
   "source": [
    "###### Dodanie kolumn do oryginalnego df"
   ]
  },
  {
   "cell_type": "code",
   "execution_count": 15,
   "metadata": {},
   "outputs": [
    {
     "data": {
      "text/plain": [
       "True"
      ]
     },
     "execution_count": 15,
     "metadata": {},
     "output_type": "execute_result"
    }
   ],
   "source": [
    "##Dodaję obie kolumny do oryginalnego df poprzez mapowanie ich za pomocą indeksu, ponieważ indeks nie został jeszcze zmodyfikowany,\n",
    "##powinno to działać poprawnie\n",
    "kopia_df[\"Lokacja-Miasto\"] = kopia_df.index.map(\n",
    "    miasto_stan[\"Lokacja-Miasto\"])\n",
    "\n",
    "kopia_df[\"Lokacja-Stan\"] = kopia_df.index.map(\n",
    "    miasto_stan[\"Lokacja-Stan\"])\n",
    "\n",
    "##Sprawdzam, czy mapowanie faktycznie zadziałało poprawnie\n",
    "(kopia_df[\"Lokacja-Stan\"] == kopia_df[\"job_state\"]).all()"
   ]
  },
  {
   "attachments": {},
   "cell_type": "markdown",
   "metadata": {},
   "source": [
    "###### Czyszczenie kolumny \"Sektor\""
   ]
  },
  {
   "cell_type": "code",
   "execution_count": 16,
   "metadata": {},
   "outputs": [
    {
     "name": "stdout",
     "output_type": "stream",
     "text": [
      "(24,)\n",
      "['Aerospace & Defense' 'Health Care' 'Business Services'\n",
      " 'Oil, Gas, Energy & Utilities' 'Real Estate' 'Finance'\n",
      " 'Information Technology' 'Retail' 'Biotech & Pharmaceuticals' 'Media'\n",
      " 'Insurance' 'Transportation & Logistics' 'Telecommunications' '-1'\n",
      " 'Manufacturing' 'Mining & Metals' 'Government' 'Education'\n",
      " 'Agriculture & Forestry' 'Travel & Tourism' 'Non-Profit'\n",
      " 'Arts, Entertainment & Recreation' 'Accounting & Legal'\n",
      " 'Consumer Services']\n",
      "True\n"
     ]
    }
   ],
   "source": [
    "##Sprawdzenie ile unikalnych wartości znajduje się w kolumnie \"Sector\"\n",
    "print(kopia_df[\"Sector\"].unique().shape)\n",
    "\n",
    "##Ponieważ nie ma tak wielu unikalnych wartości, jesteśmy w stanie sprawdzić to ręcznie\n",
    "print(kopia_df[\"Sector\"].unique())\n",
    "\n",
    "##Wydaje się, że istnieje nieprawidłowa wartość \"-1\", w tej sytuacji usuwam wiersze z nieprawidłowymi wartościami.\n",
    "##Ponieważ typ danych tej kolumny to \"Object\", \"-1\" jest traktowane jako ciąg znaków a nie cyfr.\n",
    "kopia_df = kopia_df[kopia_df[\"Sector\"] != \"-1\"]\n",
    "\n",
    "##Wykonanie kodu dla wartości alfabetycznych, aby upewnić się, że nie ma wartości -1\n",
    "print((kopia_df[\"Sector\"].str.replace(\"\\W\", \"\", regex=True).str.isalpha()).all())"
   ]
  },
  {
   "cell_type": "code",
   "execution_count": 17,
   "metadata": {},
   "outputs": [
    {
     "data": {
      "text/html": [
       "<div>\n",
       "<style scoped>\n",
       "    .dataframe tbody tr th:only-of-type {\n",
       "        vertical-align: middle;\n",
       "    }\n",
       "\n",
       "    .dataframe tbody tr th {\n",
       "        vertical-align: top;\n",
       "    }\n",
       "\n",
       "    .dataframe thead th {\n",
       "        text-align: right;\n",
       "    }\n",
       "</style>\n",
       "<table border=\"1\" class=\"dataframe\">\n",
       "  <thead>\n",
       "    <tr style=\"text-align: right;\">\n",
       "      <th></th>\n",
       "      <th>Job Title</th>\n",
       "      <th>Salary Estimate</th>\n",
       "      <th>Rating</th>\n",
       "      <th>Company Name</th>\n",
       "      <th>Location</th>\n",
       "      <th>Headquarters</th>\n",
       "      <th>Size</th>\n",
       "      <th>Founded</th>\n",
       "      <th>Industry</th>\n",
       "      <th>Sector</th>\n",
       "      <th>Revenue</th>\n",
       "      <th>hourly</th>\n",
       "      <th>min_salary</th>\n",
       "      <th>max_salary</th>\n",
       "      <th>avg_salary</th>\n",
       "      <th>job_state</th>\n",
       "      <th>Lokacja-Miasto</th>\n",
       "      <th>Lokacja-Stan</th>\n",
       "    </tr>\n",
       "  </thead>\n",
       "  <tbody>\n",
       "    <tr>\n",
       "      <th>65</th>\n",
       "      <td>Data Scientist</td>\n",
       "      <td>$88K-$148K (Glassdoor est.)</td>\n",
       "      <td>2.8</td>\n",
       "      <td>Berg Health\\n2.8</td>\n",
       "      <td>Framingham, MA</td>\n",
       "      <td>Framingham, MA</td>\n",
       "      <td>51 to 200 employees</td>\n",
       "      <td>2006</td>\n",
       "      <td>Biotech &amp; Pharmaceuticals</td>\n",
       "      <td>Biotech &amp; Pharmaceuticals</td>\n",
       "      <td>$1 to $5 million (USD)</td>\n",
       "      <td>0</td>\n",
       "      <td>88</td>\n",
       "      <td>148</td>\n",
       "      <td>118.0</td>\n",
       "      <td>MA</td>\n",
       "      <td>Framingham</td>\n",
       "      <td>MA</td>\n",
       "    </tr>\n",
       "    <tr>\n",
       "      <th>457</th>\n",
       "      <td>Staff BI and Data Engineer</td>\n",
       "      <td>$80K-$148K (Glassdoor est.)</td>\n",
       "      <td>2.9</td>\n",
       "      <td>Affinity Solutions\\n2.9</td>\n",
       "      <td>San Jose, CA</td>\n",
       "      <td>New York, NY</td>\n",
       "      <td>51 to 200 employees</td>\n",
       "      <td>1998</td>\n",
       "      <td>Advertising &amp; Marketing</td>\n",
       "      <td>Business Services</td>\n",
       "      <td>Unknown / Non-Applicable</td>\n",
       "      <td>0</td>\n",
       "      <td>80</td>\n",
       "      <td>148</td>\n",
       "      <td>114.0</td>\n",
       "      <td>CA</td>\n",
       "      <td>San Jose</td>\n",
       "      <td>CA</td>\n",
       "    </tr>\n",
       "  </tbody>\n",
       "</table>\n",
       "</div>"
      ],
      "text/plain": [
       "                      Job Title              Salary Estimate  Rating  \\\n",
       "65               Data Scientist  $88K-$148K (Glassdoor est.)     2.8   \n",
       "457  Staff BI and Data Engineer  $80K-$148K (Glassdoor est.)     2.9   \n",
       "\n",
       "                Company Name        Location    Headquarters  \\\n",
       "65          Berg Health\\n2.8  Framingham, MA  Framingham, MA   \n",
       "457  Affinity Solutions\\n2.9    San Jose, CA    New York, NY   \n",
       "\n",
       "                    Size  Founded                   Industry  \\\n",
       "65   51 to 200 employees     2006  Biotech & Pharmaceuticals   \n",
       "457  51 to 200 employees     1998    Advertising & Marketing   \n",
       "\n",
       "                        Sector                   Revenue  hourly  min_salary  \\\n",
       "65   Biotech & Pharmaceuticals    $1 to $5 million (USD)       0          88   \n",
       "457          Business Services  Unknown / Non-Applicable       0          80   \n",
       "\n",
       "     max_salary  avg_salary job_state Lokacja-Miasto Lokacja-Stan  \n",
       "65          148       118.0        MA     Framingham           MA  \n",
       "457         148       114.0        CA       San Jose           CA  "
      ]
     },
     "execution_count": 17,
     "metadata": {},
     "output_type": "execute_result"
    }
   ],
   "source": [
    "##Upewnienie się, że wszystko jest wyświetlane poprawnie\n",
    "kopia_df.sample(2)"
   ]
  },
  {
   "attachments": {},
   "cell_type": "markdown",
   "metadata": {},
   "source": [
    "###### Czyszczenie i kontrola kolumn wynagrodzeń poprzez porównanie już istniejących kolumn wynagrodzeń z liczbami pobranymi z kolumny \"Salary Estimate\"."
   ]
  },
  {
   "attachments": {},
   "cell_type": "markdown",
   "metadata": {},
   "source": [
    "###### Minimalne wynagrodzenie"
   ]
  },
  {
   "cell_type": "code",
   "execution_count": 18,
   "metadata": {},
   "outputs": [],
   "source": [
    "##Dodanie kolumny Minimalne wynagrodzenie roczne, poprzez wyciągnięcie wartości z minimalnych widełek podanych w kolumnie\n",
    "##\"Salary Estimate\".\n",
    "kopia_df[\"Minimalne Wyn. Roczne\"] = kopia_df[\"Salary Estimate\"].map(lambda x: x[x.find(\"$\")+1:x.find(\"K\")])"
   ]
  },
  {
   "cell_type": "code",
   "execution_count": 19,
   "metadata": {},
   "outputs": [
    {
     "data": {
      "text/plain": [
       "True"
      ]
     },
     "execution_count": 19,
     "metadata": {},
     "output_type": "execute_result"
    }
   ],
   "source": [
    "##Zmienienie typu nowej kolumny na numeryczny, a następnie sprawdzenie czy wartości z nowej kolumny\n",
    "##pasują do wartości ze starej kolumny\n",
    "\n",
    "kopia_df[\"Minimalne Wyn. Roczne\"] = pd.to_numeric(kopia_df[\"Minimalne Wyn. Roczne\"])\n",
    "(kopia_df[\"Minimalne Wyn. Roczne\"] == kopia_df[\"min_salary\"]).all()"
   ]
  },
  {
   "attachments": {},
   "cell_type": "markdown",
   "metadata": {},
   "source": [
    "###### Maksymalne wynagrodzenie"
   ]
  },
  {
   "cell_type": "code",
   "execution_count": 20,
   "metadata": {},
   "outputs": [],
   "source": [
    "##Powtarzanie tego samego procesu, co powyżej, ale dla maksymalnego wynagrodzenia\n",
    "kopia_df[\"Maksymalne Wyn. Roczne\"] = kopia_df[\"Salary Estimate\"].map(\n",
    "    lambda x: x[x.find(\"$\", x.find(\"-\"))+1:x.find(\"K\", x.find(\"-\"))])"
   ]
  },
  {
   "cell_type": "code",
   "execution_count": 21,
   "metadata": {},
   "outputs": [
    {
     "data": {
      "text/plain": [
       "True"
      ]
     },
     "execution_count": 21,
     "metadata": {},
     "output_type": "execute_result"
    }
   ],
   "source": [
    "##Taki sam proces sprawdzania jak dla wartości minimalnych\n",
    "kopia_df[\"Maksymalne Wyn. Roczne\"] = pd.to_numeric(kopia_df[\"Maksymalne Wyn. Roczne\"])\n",
    "(kopia_df[\"Maksymalne Wyn. Roczne\"] == kopia_df[\"max_salary\"]).all()"
   ]
  },
  {
   "attachments": {},
   "cell_type": "markdown",
   "metadata": {},
   "source": [
    "###### Średnie wynagrodzenie"
   ]
  },
  {
   "cell_type": "code",
   "execution_count": 22,
   "metadata": {},
   "outputs": [],
   "source": [
    "##Dodanie kolumny Średnia pensja poprzez obliczenie średniej wartości dla minimalnej i maksymalnej pensji\n",
    "kopia_df[\"Średnie Wyn. Roczne\"] = (\n",
    "    kopia_df[\"Minimalne Wyn. Roczne\"]+kopia_df[\"Maksymalne Wyn. Roczne\"])/2"
   ]
  },
  {
   "cell_type": "code",
   "execution_count": 23,
   "metadata": {},
   "outputs": [
    {
     "data": {
      "text/plain": [
       "True"
      ]
     },
     "execution_count": 23,
     "metadata": {},
     "output_type": "execute_result"
    }
   ],
   "source": [
    "##Taki sam proces kontroli jak dla wartości minimalnych i maksymalnych\n",
    "kopia_df[\"Średnie Wyn. Roczne\"] = pd.to_numeric(kopia_df[\"Średnie Wyn. Roczne\"])\n",
    "(kopia_df[\"Średnie Wyn. Roczne\"] == kopia_df[\"avg_salary\"]).all()"
   ]
  },
  {
   "attachments": {},
   "cell_type": "markdown",
   "metadata": {},
   "source": [
    "###### Upewnienie się, że wynagrodzenia są podane w tysiącach"
   ]
  },
  {
   "cell_type": "code",
   "execution_count": 24,
   "metadata": {},
   "outputs": [],
   "source": [
    "kopia_df[[\"Minimalne Wyn. Roczne\", \"Maksymalne Wyn. Roczne\", \"Średnie Wyn. Roczne\"]] = (\n",
    "    kopia_df[[\"Minimalne Wyn. Roczne\", \"Maksymalne Wyn. Roczne\", \"Średnie Wyn. Roczne\"]]*1000)"
   ]
  },
  {
   "cell_type": "code",
   "execution_count": 25,
   "metadata": {},
   "outputs": [
    {
     "data": {
      "text/html": [
       "<div>\n",
       "<style scoped>\n",
       "    .dataframe tbody tr th:only-of-type {\n",
       "        vertical-align: middle;\n",
       "    }\n",
       "\n",
       "    .dataframe tbody tr th {\n",
       "        vertical-align: top;\n",
       "    }\n",
       "\n",
       "    .dataframe thead th {\n",
       "        text-align: right;\n",
       "    }\n",
       "</style>\n",
       "<table border=\"1\" class=\"dataframe\">\n",
       "  <thead>\n",
       "    <tr style=\"text-align: right;\">\n",
       "      <th></th>\n",
       "      <th>Job Title</th>\n",
       "      <th>Salary Estimate</th>\n",
       "      <th>Rating</th>\n",
       "      <th>Company Name</th>\n",
       "      <th>Location</th>\n",
       "      <th>Headquarters</th>\n",
       "      <th>Size</th>\n",
       "      <th>Founded</th>\n",
       "      <th>Industry</th>\n",
       "      <th>Sector</th>\n",
       "      <th>...</th>\n",
       "      <th>hourly</th>\n",
       "      <th>min_salary</th>\n",
       "      <th>max_salary</th>\n",
       "      <th>avg_salary</th>\n",
       "      <th>job_state</th>\n",
       "      <th>Lokacja-Miasto</th>\n",
       "      <th>Lokacja-Stan</th>\n",
       "      <th>Minimalne Wyn. Roczne</th>\n",
       "      <th>Maksymalne Wyn. Roczne</th>\n",
       "      <th>Średnie Wyn. Roczne</th>\n",
       "    </tr>\n",
       "  </thead>\n",
       "  <tbody>\n",
       "    <tr>\n",
       "      <th>194</th>\n",
       "      <td>Principal Scientist, Hematology</td>\n",
       "      <td>$54K-$115K (Glassdoor est.)</td>\n",
       "      <td>3.3</td>\n",
       "      <td>Rochester Regional Health\\n3.3</td>\n",
       "      <td>Rochester, NY</td>\n",
       "      <td>Rochester, NY</td>\n",
       "      <td>10000+ employees</td>\n",
       "      <td>2014</td>\n",
       "      <td>Health Care Services &amp; Hospitals</td>\n",
       "      <td>Health Care</td>\n",
       "      <td>...</td>\n",
       "      <td>0</td>\n",
       "      <td>54</td>\n",
       "      <td>115</td>\n",
       "      <td>84.5</td>\n",
       "      <td>NY</td>\n",
       "      <td>Rochester</td>\n",
       "      <td>NY</td>\n",
       "      <td>54000</td>\n",
       "      <td>115000</td>\n",
       "      <td>84500.0</td>\n",
       "    </tr>\n",
       "    <tr>\n",
       "      <th>250</th>\n",
       "      <td>Senior Data Scientist</td>\n",
       "      <td>$116K-$185K (Glassdoor est.)</td>\n",
       "      <td>4.0</td>\n",
       "      <td>Autodesk\\n4.0</td>\n",
       "      <td>San Francisco, CA</td>\n",
       "      <td>San Rafael, CA</td>\n",
       "      <td>5001 to 10000 employees</td>\n",
       "      <td>1982</td>\n",
       "      <td>Computer Hardware &amp; Software</td>\n",
       "      <td>Information Technology</td>\n",
       "      <td>...</td>\n",
       "      <td>0</td>\n",
       "      <td>116</td>\n",
       "      <td>185</td>\n",
       "      <td>150.5</td>\n",
       "      <td>CA</td>\n",
       "      <td>San Francisco</td>\n",
       "      <td>CA</td>\n",
       "      <td>116000</td>\n",
       "      <td>185000</td>\n",
       "      <td>150500.0</td>\n",
       "    </tr>\n",
       "  </tbody>\n",
       "</table>\n",
       "<p>2 rows × 21 columns</p>\n",
       "</div>"
      ],
      "text/plain": [
       "                           Job Title               Salary Estimate  Rating  \\\n",
       "194  Principal Scientist, Hematology   $54K-$115K (Glassdoor est.)     3.3   \n",
       "250            Senior Data Scientist  $116K-$185K (Glassdoor est.)     4.0   \n",
       "\n",
       "                       Company Name           Location    Headquarters  \\\n",
       "194  Rochester Regional Health\\n3.3      Rochester, NY   Rochester, NY   \n",
       "250                   Autodesk\\n4.0  San Francisco, CA  San Rafael, CA   \n",
       "\n",
       "                        Size  Founded                          Industry  \\\n",
       "194         10000+ employees     2014  Health Care Services & Hospitals   \n",
       "250  5001 to 10000 employees     1982      Computer Hardware & Software   \n",
       "\n",
       "                     Sector  ... hourly  min_salary  max_salary  avg_salary  \\\n",
       "194             Health Care  ...      0          54         115        84.5   \n",
       "250  Information Technology  ...      0         116         185       150.5   \n",
       "\n",
       "     job_state Lokacja-Miasto Lokacja-Stan Minimalne Wyn. Roczne  \\\n",
       "194         NY      Rochester           NY                 54000   \n",
       "250         CA  San Francisco           CA                116000   \n",
       "\n",
       "     Maksymalne Wyn. Roczne  Średnie Wyn. Roczne  \n",
       "194                  115000              84500.0  \n",
       "250                  185000             150500.0  \n",
       "\n",
       "[2 rows x 21 columns]"
      ]
     },
     "execution_count": 25,
     "metadata": {},
     "output_type": "execute_result"
    }
   ],
   "source": [
    "kopia_df.sample(2)"
   ]
  },
  {
   "attachments": {},
   "cell_type": "markdown",
   "metadata": {},
   "source": [
    "##### Naprawianie Nazw Firm"
   ]
  },
  {
   "cell_type": "code",
   "execution_count": 26,
   "metadata": {},
   "outputs": [],
   "source": [
    "#Ponieważ są pewne problemy z kolumną \"Company Name\"\n",
    "#Próbuję oddzielić wiersze, w których nazwa firmy zawiera i nie zawiera \"\\n\"\n",
    "z_n = kopia_df[\"Company Name\"][kopia_df[\"Company Name\"].str.contains(r'\\n')]\n",
    "bez_n = kopia_df[\"Company Name\"][~kopia_df[\"Company Name\"].str.contains(r'\\n')]"
   ]
  },
  {
   "cell_type": "code",
   "execution_count": 27,
   "metadata": {},
   "outputs": [
    {
     "data": {
      "text/plain": [
       "array([4], dtype=int64)"
      ]
     },
     "execution_count": 27,
     "metadata": {},
     "output_type": "execute_result"
    }
   ],
   "source": [
    "##Tutaj próbuję znaleźć, ile znaków należy usunąć w każdej komórce, z wierszy, które zawierają \\n.\n",
    "znaki = (z_n.str.len() - z_n.str.find(\"\\n\"))\n",
    "\n",
    "##Wykonując .unique() jestem w stanie zobaczyć, czy wszystkie nazwy mają \"\\n\" na końcu zdania\n",
    "##czy też, w różnych miejscach w całej kolumnie.\n",
    "##Dodatkowo pokazuje mi to również, ile znaków muszę usunąć z nazw.\n",
    "znaki.unique()"
   ]
  },
  {
   "cell_type": "code",
   "execution_count": 28,
   "metadata": {},
   "outputs": [],
   "source": [
    "##Na szczęście wszystkie wartości są równe 4, co oznacza, że dla wszystkich wierszy znak jest w tym samym miejscu, i \n",
    "##to właśnie tyle znaków musimy usunąć.\n",
    "\n",
    "usunięte_n = kopia_df[\"Company Name\"][kopia_df[\"Company Name\"].str.contains(r'\\n')].str[:-4]\n",
    "\n",
    "##Kiedy już usunęliśmy \"\\n\" i wszystkie niepotrzebne znaki na prawo od niego, możemy po prostu\n",
    "##mapować nowe wartości do istniejącej kolumny za pomocą indeksu.\n",
    "\n",
    "kopia_df[\"Company Name\"] = kopia_df[\"Company Name\"].index.map(usunięte_n)\n",
    "\n",
    "##########Proszę zwrócić uwagę###########\n",
    "##To mogło i powinno być zrobione przy użyciu .replace(), jednak po wypróbowaniu tego, ta metoda\n",
    "##nie działa zgodnie z oczekiwaniami, stąd powyższe podejście"
   ]
  },
  {
   "cell_type": "code",
   "execution_count": 29,
   "metadata": {},
   "outputs": [
    {
     "data": {
      "text/plain": [
       "False    706\n",
       "Name: Company Name, dtype: int64"
      ]
     },
     "execution_count": 29,
     "metadata": {},
     "output_type": "execute_result"
    }
   ],
   "source": [
    "#Na koniec sprawdzenie czy zmiany zostały zastosowane poprawnie\n",
    "kopia_df[\"Company Name\"].str.contains(r'\\n').value_counts()"
   ]
  },
  {
   "attachments": {},
   "cell_type": "markdown",
   "metadata": {},
   "source": [
    "##### Końcowe Czyszczenie"
   ]
  },
  {
   "cell_type": "code",
   "execution_count": 30,
   "metadata": {},
   "outputs": [
    {
     "data": {
      "text/plain": [
       "Index(['Job Title', 'Salary Estimate', 'Company Name', 'Industry', 'Sector',\n",
       "       'Revenue', 'Lokacja-Miasto', 'Lokacja-Stan', 'Minimalne Wyn. Roczne',\n",
       "       'Maksymalne Wyn. Roczne', 'Średnie Wyn. Roczne'],\n",
       "      dtype='object')"
      ]
     },
     "execution_count": 30,
     "metadata": {},
     "output_type": "execute_result"
    }
   ],
   "source": [
    "##Usuwanie reszty przestarzałych kolumn. Dodałem je do nowej zmiennej, aby mieć do czego wracać\n",
    "##w wypadku jakichkolwiek problemów\n",
    "kopia_df.columns\n",
    "prawie_gotowy_df = kopia_df.drop([\"Rating\", \"Location\", \"Headquarters\", \"Size\", \"Founded\",\n",
    "\"hourly\", \"min_salary\", \"max_salary\", \"avg_salary\", \"job_state\"], axis=1)\n",
    "prawie_gotowy_df.columns"
   ]
  },
  {
   "cell_type": "code",
   "execution_count": 31,
   "metadata": {},
   "outputs": [],
   "source": [
    "##Przetłumaczenie nazw kolumn na polski\n",
    "prawie_gotowy_df = prawie_gotowy_df.rename(columns={\"Job Title\":\"Stanowisko\", \"Salary Estimate\":\"Szacunkowe Wynagrodzenie\", \n",
    "\"Company Name\":\"Nazwa Firmy\",\"Industry\":\"Branża\", \"Sector\":\"Sektor\", \"Revenue\":\"Przychód\"})"
   ]
  },
  {
   "cell_type": "code",
   "execution_count": 32,
   "metadata": {},
   "outputs": [],
   "source": [
    "##Zmiana kolejności kolumn\n",
    "prawie_gotowy_df = prawie_gotowy_df[[\"Stanowisko\", \"Szacunkowe Wynagrodzenie\", \"Nazwa Firmy\",\"Lokacja-Miasto\", \"Lokacja-Stan\",\n",
    " \"Minimalne Wyn. Roczne\", \"Maksymalne Wyn. Roczne\", \"Średnie Wyn. Roczne\", \"Branża\", \"Sektor\", \"Przychód\"]]"
   ]
  },
  {
   "cell_type": "code",
   "execution_count": 33,
   "metadata": {},
   "outputs": [
    {
     "data": {
      "text/html": [
       "<div>\n",
       "<style scoped>\n",
       "    .dataframe tbody tr th:only-of-type {\n",
       "        vertical-align: middle;\n",
       "    }\n",
       "\n",
       "    .dataframe tbody tr th {\n",
       "        vertical-align: top;\n",
       "    }\n",
       "\n",
       "    .dataframe thead th {\n",
       "        text-align: right;\n",
       "    }\n",
       "</style>\n",
       "<table border=\"1\" class=\"dataframe\">\n",
       "  <thead>\n",
       "    <tr style=\"text-align: right;\">\n",
       "      <th></th>\n",
       "      <th>Stanowisko</th>\n",
       "      <th>Szacunkowe Wynagrodzenie</th>\n",
       "      <th>Nazwa Firmy</th>\n",
       "      <th>Lokacja-Miasto</th>\n",
       "      <th>Lokacja-Stan</th>\n",
       "      <th>Minimalne Wyn. Roczne</th>\n",
       "      <th>Maksymalne Wyn. Roczne</th>\n",
       "      <th>Średnie Wyn. Roczne</th>\n",
       "      <th>Branża</th>\n",
       "      <th>Sektor</th>\n",
       "      <th>Przychód</th>\n",
       "    </tr>\n",
       "  </thead>\n",
       "  <tbody>\n",
       "    <tr>\n",
       "      <th>414</th>\n",
       "      <td>Systems Engineer II - Data Analyst</td>\n",
       "      <td>$49K-$76K (Glassdoor est.)</td>\n",
       "      <td>Raytheon</td>\n",
       "      <td>Huntsville</td>\n",
       "      <td>AL</td>\n",
       "      <td>49000</td>\n",
       "      <td>76000</td>\n",
       "      <td>62500.0</td>\n",
       "      <td>Aerospace &amp; Defense</td>\n",
       "      <td>Aerospace &amp; Defense</td>\n",
       "      <td>$10+ billion (USD)</td>\n",
       "    </tr>\n",
       "    <tr>\n",
       "      <th>548</th>\n",
       "      <td>Data Scientist</td>\n",
       "      <td>$60K-$99K (Glassdoor est.)</td>\n",
       "      <td>Oversight Systems</td>\n",
       "      <td>Atlanta</td>\n",
       "      <td>GA</td>\n",
       "      <td>60000</td>\n",
       "      <td>99000</td>\n",
       "      <td>79500.0</td>\n",
       "      <td>Computer Hardware &amp; Software</td>\n",
       "      <td>Information Technology</td>\n",
       "      <td>$25 to $50 million (USD)</td>\n",
       "    </tr>\n",
       "    <tr>\n",
       "      <th>8</th>\n",
       "      <td>Research Scientist</td>\n",
       "      <td>$38K-$84K (Glassdoor est.)</td>\n",
       "      <td>Rochester Regional Health</td>\n",
       "      <td>Rochester</td>\n",
       "      <td>NY</td>\n",
       "      <td>38000</td>\n",
       "      <td>84000</td>\n",
       "      <td>61000.0</td>\n",
       "      <td>Health Care Services &amp; Hospitals</td>\n",
       "      <td>Health Care</td>\n",
       "      <td>$500 million to $1 billion (USD)</td>\n",
       "    </tr>\n",
       "  </tbody>\n",
       "</table>\n",
       "</div>"
      ],
      "text/plain": [
       "                             Stanowisko    Szacunkowe Wynagrodzenie  \\\n",
       "414  Systems Engineer II - Data Analyst  $49K-$76K (Glassdoor est.)   \n",
       "548                      Data Scientist  $60K-$99K (Glassdoor est.)   \n",
       "8                    Research Scientist  $38K-$84K (Glassdoor est.)   \n",
       "\n",
       "                   Nazwa Firmy Lokacja-Miasto Lokacja-Stan  \\\n",
       "414                   Raytheon     Huntsville           AL   \n",
       "548          Oversight Systems        Atlanta           GA   \n",
       "8    Rochester Regional Health      Rochester           NY   \n",
       "\n",
       "     Minimalne Wyn. Roczne  Maksymalne Wyn. Roczne  Średnie Wyn. Roczne  \\\n",
       "414                  49000                   76000              62500.0   \n",
       "548                  60000                   99000              79500.0   \n",
       "8                    38000                   84000              61000.0   \n",
       "\n",
       "                               Branża                  Sektor  \\\n",
       "414               Aerospace & Defense     Aerospace & Defense   \n",
       "548      Computer Hardware & Software  Information Technology   \n",
       "8    Health Care Services & Hospitals             Health Care   \n",
       "\n",
       "                             Przychód  \n",
       "414                $10+ billion (USD)  \n",
       "548          $25 to $50 million (USD)  \n",
       "8    $500 million to $1 billion (USD)  "
      ]
     },
     "execution_count": 33,
     "metadata": {},
     "output_type": "execute_result"
    }
   ],
   "source": [
    "##Sprawdzenie jak wyglądają oczyszczone dane\n",
    "prawie_gotowy_df.sample(3)"
   ]
  },
  {
   "cell_type": "code",
   "execution_count": 34,
   "metadata": {},
   "outputs": [],
   "source": [
    "##Przypisanie teraz całkowicie oczyszczonego df do nowej zmiennej. Dodatkowo resetując indeks\n",
    "gotowy_df = prawie_gotowy_df.reset_index(drop=True)"
   ]
  },
  {
   "cell_type": "code",
   "execution_count": 35,
   "metadata": {},
   "outputs": [],
   "source": [
    "##Zapisanie df jako pliku CSV na wypadek, gdyby ten plik uległ uszkodzeniu lub do wykorzystania w przyszłej analizie\n",
    "gotowy_df.to_csv(\"./gotowy_df.csv\")"
   ]
  },
  {
   "attachments": {},
   "cell_type": "markdown",
   "metadata": {},
   "source": [
    "### Analiza"
   ]
  },
  {
   "attachments": {},
   "cell_type": "markdown",
   "metadata": {},
   "source": [
    "###### Tabela przedstawiająca 3 najlepsze sektory w oparciu o Średnie Wyn. Roczne"
   ]
  },
  {
   "cell_type": "code",
   "execution_count": 36,
   "metadata": {},
   "outputs": [
    {
     "data": {
      "text/html": [
       "<div>\n",
       "<style scoped>\n",
       "    .dataframe tbody tr th:only-of-type {\n",
       "        vertical-align: middle;\n",
       "    }\n",
       "\n",
       "    .dataframe tbody tr th {\n",
       "        vertical-align: top;\n",
       "    }\n",
       "\n",
       "    .dataframe thead th {\n",
       "        text-align: right;\n",
       "    }\n",
       "</style>\n",
       "<table border=\"1\" class=\"dataframe\">\n",
       "  <thead>\n",
       "    <tr style=\"text-align: right;\">\n",
       "      <th></th>\n",
       "      <th>Średnie_Roczne_Wyn</th>\n",
       "      <th>Ilość_ofert</th>\n",
       "    </tr>\n",
       "    <tr>\n",
       "      <th>Sektor</th>\n",
       "      <th></th>\n",
       "      <th></th>\n",
       "    </tr>\n",
       "  </thead>\n",
       "  <tbody>\n",
       "    <tr>\n",
       "      <th>Media</th>\n",
       "      <td>116666.67</td>\n",
       "      <td>6</td>\n",
       "    </tr>\n",
       "    <tr>\n",
       "      <th>Accounting &amp; Legal</th>\n",
       "      <td>113500.00</td>\n",
       "      <td>1</td>\n",
       "    </tr>\n",
       "    <tr>\n",
       "      <th>Information Technology</th>\n",
       "      <td>113191.67</td>\n",
       "      <td>180</td>\n",
       "    </tr>\n",
       "  </tbody>\n",
       "</table>\n",
       "</div>"
      ],
      "text/plain": [
       "                        Średnie_Roczne_Wyn  Ilość_ofert\n",
       "Sektor                                                 \n",
       "Media                            116666.67            6\n",
       "Accounting & Legal               113500.00            1\n",
       "Information Technology           113191.67          180"
      ]
     },
     "execution_count": 36,
     "metadata": {},
     "output_type": "execute_result"
    }
   ],
   "source": [
    "sektory_średnia = gotowy_df.groupby(\"Sektor\")[[\"Średnie Wyn. Roczne\", \"Sektor\"]].agg(\n",
    "    Średnie_Roczne_Wyn = pd.NamedAgg(column=\"Średnie Wyn. Roczne\", aggfunc=\"mean\"),\n",
    "    Ilość_ofert = pd.NamedAgg(column=\"Sektor\", aggfunc=\"count\"),\n",
    "    ).round(2).sort_values(\"Średnie_Roczne_Wyn\", ascending=False)\n",
    "\n",
    "\n",
    "sektory_średnia.head(3)"
   ]
  },
  {
   "attachments": {},
   "cell_type": "markdown",
   "metadata": {},
   "source": [
    "###### Table showing Top 3 sektory based on Średnie Wyn. Roczne, but only those with at least 10 job offers"
   ]
  },
  {
   "cell_type": "code",
   "execution_count": 37,
   "metadata": {},
   "outputs": [
    {
     "data": {
      "text/html": [
       "<div>\n",
       "<style scoped>\n",
       "    .dataframe tbody tr th:only-of-type {\n",
       "        vertical-align: middle;\n",
       "    }\n",
       "\n",
       "    .dataframe tbody tr th {\n",
       "        vertical-align: top;\n",
       "    }\n",
       "\n",
       "    .dataframe thead th {\n",
       "        text-align: right;\n",
       "    }\n",
       "</style>\n",
       "<table border=\"1\" class=\"dataframe\">\n",
       "  <thead>\n",
       "    <tr style=\"text-align: right;\">\n",
       "      <th></th>\n",
       "      <th>Średnie_Roczne_Wyn</th>\n",
       "      <th>Ilość_ofert</th>\n",
       "    </tr>\n",
       "    <tr>\n",
       "      <th>Sektor</th>\n",
       "      <th></th>\n",
       "      <th></th>\n",
       "    </tr>\n",
       "  </thead>\n",
       "  <tbody>\n",
       "    <tr>\n",
       "      <th>Information Technology</th>\n",
       "      <td>113191.67</td>\n",
       "      <td>180</td>\n",
       "    </tr>\n",
       "    <tr>\n",
       "      <th>Biotech &amp; Pharmaceuticals</th>\n",
       "      <td>112441.44</td>\n",
       "      <td>111</td>\n",
       "    </tr>\n",
       "    <tr>\n",
       "      <th>Insurance</th>\n",
       "      <td>105942.03</td>\n",
       "      <td>69</td>\n",
       "    </tr>\n",
       "  </tbody>\n",
       "</table>\n",
       "</div>"
      ],
      "text/plain": [
       "                           Średnie_Roczne_Wyn  Ilość_ofert\n",
       "Sektor                                                    \n",
       "Information Technology              113191.67          180\n",
       "Biotech & Pharmaceuticals           112441.44          111\n",
       "Insurance                           105942.03           69"
      ]
     },
     "execution_count": 37,
     "metadata": {},
     "output_type": "execute_result"
    }
   ],
   "source": [
    "##Przypisuję top 3 do nowej zmiennej, dla przyszłych obliczeń\n",
    "więcej_niż_10 = sektory_średnia[sektory_średnia[\"Ilość_ofert\"] >= 10]\n",
    "\n",
    "Top_3_10 = więcej_niż_10.head(3)\n",
    "Top_3_10"
   ]
  },
  {
   "attachments": {},
   "cell_type": "markdown",
   "metadata": {},
   "source": [
    "###### Tabela pokazująca o ile więcej można zarobić w Top 3 sektorach z co najmniej 10 ofertami pracy, w porównaniu do średniej dla wszystkich sektorów z co najmniej 10 ofertami pracy (w %)"
   ]
  },
  {
   "cell_type": "code",
   "execution_count": 38,
   "metadata": {},
   "outputs": [
    {
     "name": "stdout",
     "output_type": "stream",
     "text": [
      "104151.54\n"
     ]
    },
    {
     "data": {
      "text/html": [
       "<div>\n",
       "<style scoped>\n",
       "    .dataframe tbody tr th:only-of-type {\n",
       "        vertical-align: middle;\n",
       "    }\n",
       "\n",
       "    .dataframe tbody tr th {\n",
       "        vertical-align: top;\n",
       "    }\n",
       "\n",
       "    .dataframe thead th {\n",
       "        text-align: right;\n",
       "    }\n",
       "</style>\n",
       "<table border=\"1\" class=\"dataframe\">\n",
       "  <thead>\n",
       "    <tr style=\"text-align: right;\">\n",
       "      <th></th>\n",
       "      <th>Średnie_Roczne_Wyn</th>\n",
       "    </tr>\n",
       "    <tr>\n",
       "      <th>Sektor</th>\n",
       "      <th></th>\n",
       "    </tr>\n",
       "  </thead>\n",
       "  <tbody>\n",
       "    <tr>\n",
       "      <th>Information Technology</th>\n",
       "      <td>8.68</td>\n",
       "    </tr>\n",
       "    <tr>\n",
       "      <th>Biotech &amp; Pharmaceuticals</th>\n",
       "      <td>7.96</td>\n",
       "    </tr>\n",
       "    <tr>\n",
       "      <th>Insurance</th>\n",
       "      <td>1.72</td>\n",
       "    </tr>\n",
       "  </tbody>\n",
       "</table>\n",
       "</div>"
      ],
      "text/plain": [
       "                           Średnie_Roczne_Wyn\n",
       "Sektor                                       \n",
       "Information Technology                   8.68\n",
       "Biotech & Pharmaceuticals                7.96\n",
       "Insurance                                1.72"
      ]
     },
     "execution_count": 38,
     "metadata": {},
     "output_type": "execute_result"
    }
   ],
   "source": [
    "##Obliczanie średniej ważonej, gdzie wagą jest liczba ofert pracy\n",
    "śr_waż = np.average(więcej_niż_10[\"Średnie_Roczne_Wyn\"], weights=więcej_niż_10[\"Ilość_ofert\"]).round(2)\n",
    "print(śr_waż)\n",
    "\n",
    "##Obliczanie wzrostu w %\n",
    "wzrost_proc = (((Top_3_10[[\"Średnie_Roczne_Wyn\"]]/śr_waż)-1)*100).round(2)\n",
    "wzrost_proc"
   ]
  },
  {
   "cell_type": "code",
   "execution_count": 39,
   "metadata": {},
   "outputs": [
    {
     "name": "stdout",
     "output_type": "stream",
     "text": [
      "True\n",
      "True\n",
      "True\n"
     ]
    }
   ],
   "source": [
    "##Sprawdzanie, czy zwrócone % są poprawne. Jeśli wartości zwrócone przez te obliczenia są równe\n",
    "##średniej pensji dla Top 3 sektorów, to są one poprawne\n",
    "\n",
    "##Używam wartości % przed zaokrągleniem, aby upewnić się, że wyniki są najbardziej precyzyjne\n",
    "print((śr_waż+śr_waż*0.08679785).round(2) == Top_3_10.loc[\"Information Technology\"][\"Średnie_Roczne_Wyn\"])\n",
    "print((śr_waż+śr_waż*0.07959460).round(2) == Top_3_10.loc[\"Biotech & Pharmaceuticals\"][\"Średnie_Roczne_Wyn\"])\n",
    "print((śr_waż+śr_waż*0.01719120).round(2) == Top_3_10.loc[\"Insurance\"][\"Średnie_Roczne_Wyn\"])"
   ]
  },
  {
   "attachments": {},
   "cell_type": "markdown",
   "metadata": {},
   "source": [
    "###### Znalezienie dla każdego z sektorów Top 3 stanów z największą liczbą ofert pracy i średnim wynagrodzeniem rocznym wyższym niż średnie wynagrodzenie dla całego sektora"
   ]
  },
  {
   "cell_type": "code",
   "execution_count": 40,
   "metadata": {},
   "outputs": [
    {
     "name": "stdout",
     "output_type": "stream",
     "text": [
      "(180, 11)\n",
      "(111, 11)\n",
      "(69, 11)\n"
     ]
    }
   ],
   "source": [
    "##Wyodrębnienie wszystkich wierszy dla top3 sektorów\n",
    "IT_wsz_wiersze = gotowy_df[gotowy_df[\"Sektor\"] == \"Information Technology\"]\n",
    "BP_wsz_wiersze = gotowy_df[gotowy_df[\"Sektor\"] == \"Biotech & Pharmaceuticals\"]\n",
    "Ubez_wsz_wiersze = gotowy_df[gotowy_df[\"Sektor\"] == \"Insurance\"]\n",
    "\n",
    "##Sprawdzenie, czy dane są poprawne\n",
    "print(IT_wsz_wiersze.shape)\n",
    "print(BP_wsz_wiersze.shape)\n",
    "print(Ubez_wsz_wiersze.shape)"
   ]
  },
  {
   "cell_type": "code",
   "execution_count": 41,
   "metadata": {},
   "outputs": [],
   "source": [
    "##Ponieważ musiałbym zastosować funkcję Group By do każdego sektora osobno, postanowiłem stworzyć funkcję\n",
    "##aby ułatwić i przyspieszyć obliczenia\n",
    "def Top3Stany(Sektor_wiersze, Śr_wyn_na_sektor):\n",
    "    \"\"\"\n",
    "    Sektor_wiersze - dotyczy df z wierszami tylko dla konkretnego sektora (np. IT_wsz_wiersze)\n",
    "    Śr_wyn_na_sektor - średnie wynagrodzenie roczne dla sektora, który chcemy sprawdzić\n",
    "    \"\"\"\n",
    "    tymczasowe = Sektor_wiersze.groupby(\"Lokacja-Stan\").agg(\n",
    "    Średnie_Roczne_Wyn = pd.NamedAgg(column=\"Średnie Wyn. Roczne\", aggfunc=\"mean\"),\n",
    "    Ilość_ofert = pd.NamedAgg(column=\"Lokacja-Stan\", aggfunc=\"count\")\n",
    "    ).round(2).sort_values([\"Ilość_ofert\", \"Średnie_Roczne_Wyn\"], ascending=False)\n",
    "    \n",
    "    wynik = tymczasowe[tymczasowe[\"Średnie_Roczne_Wyn\"] >= Śr_wyn_na_sektor].head(3)\n",
    "    return wynik"
   ]
  },
  {
   "cell_type": "code",
   "execution_count": 42,
   "metadata": {},
   "outputs": [
    {
     "data": {
      "text/html": [
       "<div>\n",
       "<style scoped>\n",
       "    .dataframe tbody tr th:only-of-type {\n",
       "        vertical-align: middle;\n",
       "    }\n",
       "\n",
       "    .dataframe tbody tr th {\n",
       "        vertical-align: top;\n",
       "    }\n",
       "\n",
       "    .dataframe thead th {\n",
       "        text-align: right;\n",
       "    }\n",
       "</style>\n",
       "<table border=\"1\" class=\"dataframe\">\n",
       "  <thead>\n",
       "    <tr style=\"text-align: right;\">\n",
       "      <th></th>\n",
       "      <th>Średnie_Roczne_Wyn</th>\n",
       "      <th>Ilość_ofert</th>\n",
       "    </tr>\n",
       "    <tr>\n",
       "      <th>Lokacja-Stan</th>\n",
       "      <th></th>\n",
       "      <th></th>\n",
       "    </tr>\n",
       "  </thead>\n",
       "  <tbody>\n",
       "    <tr>\n",
       "      <th>CA</th>\n",
       "      <td>138536.76</td>\n",
       "      <td>68</td>\n",
       "    </tr>\n",
       "    <tr>\n",
       "      <th>NY</th>\n",
       "      <td>114541.67</td>\n",
       "      <td>12</td>\n",
       "    </tr>\n",
       "    <tr>\n",
       "      <th>WA</th>\n",
       "      <td>131500.00</td>\n",
       "      <td>6</td>\n",
       "    </tr>\n",
       "  </tbody>\n",
       "</table>\n",
       "</div>"
      ],
      "text/plain": [
       "              Średnie_Roczne_Wyn  Ilość_ofert\n",
       "Lokacja-Stan                                 \n",
       "CA                     138536.76           68\n",
       "NY                     114541.67           12\n",
       "WA                     131500.00            6"
      ]
     },
     "execution_count": 42,
     "metadata": {},
     "output_type": "execute_result"
    }
   ],
   "source": [
    "##Wykorzystanie funkcji - Top 3 stany dla informatyki\n",
    "Top3_stany_IT = Top3Stany(IT_wsz_wiersze, 113191.67)\n",
    "Top3_stany_IT"
   ]
  },
  {
   "cell_type": "code",
   "execution_count": 43,
   "metadata": {},
   "outputs": [
    {
     "data": {
      "text/html": [
       "<div>\n",
       "<style scoped>\n",
       "    .dataframe tbody tr th:only-of-type {\n",
       "        vertical-align: middle;\n",
       "    }\n",
       "\n",
       "    .dataframe tbody tr th {\n",
       "        vertical-align: top;\n",
       "    }\n",
       "\n",
       "    .dataframe thead th {\n",
       "        text-align: right;\n",
       "    }\n",
       "</style>\n",
       "<table border=\"1\" class=\"dataframe\">\n",
       "  <thead>\n",
       "    <tr style=\"text-align: right;\">\n",
       "      <th></th>\n",
       "      <th>Średnie_Roczne_Wyn</th>\n",
       "      <th>Ilość_ofert</th>\n",
       "    </tr>\n",
       "    <tr>\n",
       "      <th>Lokacja-Stan</th>\n",
       "      <th></th>\n",
       "      <th></th>\n",
       "    </tr>\n",
       "  </thead>\n",
       "  <tbody>\n",
       "    <tr>\n",
       "      <th>MA</th>\n",
       "      <td>117843.75</td>\n",
       "      <td>48</td>\n",
       "    </tr>\n",
       "    <tr>\n",
       "      <th>CA</th>\n",
       "      <td>118477.27</td>\n",
       "      <td>22</td>\n",
       "    </tr>\n",
       "    <tr>\n",
       "      <th>NY</th>\n",
       "      <td>119500.00</td>\n",
       "      <td>8</td>\n",
       "    </tr>\n",
       "  </tbody>\n",
       "</table>\n",
       "</div>"
      ],
      "text/plain": [
       "              Średnie_Roczne_Wyn  Ilość_ofert\n",
       "Lokacja-Stan                                 \n",
       "MA                     117843.75           48\n",
       "CA                     118477.27           22\n",
       "NY                     119500.00            8"
      ]
     },
     "execution_count": 43,
     "metadata": {},
     "output_type": "execute_result"
    }
   ],
   "source": [
    "##Wykorzystanie funkcji - Top 3 stany dla Biotech & Pharmaceuticals\n",
    "Top3_stany_BP = Top3Stany(BP_wsz_wiersze, 112441.44)\n",
    "Top3_stany_BP"
   ]
  },
  {
   "cell_type": "code",
   "execution_count": 44,
   "metadata": {},
   "outputs": [
    {
     "data": {
      "text/html": [
       "<div>\n",
       "<style scoped>\n",
       "    .dataframe tbody tr th:only-of-type {\n",
       "        vertical-align: middle;\n",
       "    }\n",
       "\n",
       "    .dataframe tbody tr th {\n",
       "        vertical-align: top;\n",
       "    }\n",
       "\n",
       "    .dataframe thead th {\n",
       "        text-align: right;\n",
       "    }\n",
       "</style>\n",
       "<table border=\"1\" class=\"dataframe\">\n",
       "  <thead>\n",
       "    <tr style=\"text-align: right;\">\n",
       "      <th></th>\n",
       "      <th>Średnie_Roczne_Wyn</th>\n",
       "      <th>Ilość_ofert</th>\n",
       "    </tr>\n",
       "    <tr>\n",
       "      <th>Lokacja-Stan</th>\n",
       "      <th></th>\n",
       "      <th></th>\n",
       "    </tr>\n",
       "  </thead>\n",
       "  <tbody>\n",
       "    <tr>\n",
       "      <th>NY</th>\n",
       "      <td>125642.86</td>\n",
       "      <td>7</td>\n",
       "    </tr>\n",
       "    <tr>\n",
       "      <th>IL</th>\n",
       "      <td>201583.33</td>\n",
       "      <td>6</td>\n",
       "    </tr>\n",
       "    <tr>\n",
       "      <th>NC</th>\n",
       "      <td>117000.00</td>\n",
       "      <td>3</td>\n",
       "    </tr>\n",
       "  </tbody>\n",
       "</table>\n",
       "</div>"
      ],
      "text/plain": [
       "              Średnie_Roczne_Wyn  Ilość_ofert\n",
       "Lokacja-Stan                                 \n",
       "NY                     125642.86            7\n",
       "IL                     201583.33            6\n",
       "NC                     117000.00            3"
      ]
     },
     "execution_count": 44,
     "metadata": {},
     "output_type": "execute_result"
    }
   ],
   "source": [
    "##Wykorzystanie funkcji - Top 3 stany dla Insurance\n",
    "Top3_stany_Ubez = Top3Stany(Ubez_wsz_wiersze, 105942.03)\n",
    "Top3_stany_Ubez"
   ]
  },
  {
   "attachments": {},
   "cell_type": "markdown",
   "metadata": {},
   "source": [
    "###### Sprawdzenie wpływu przychodów na liczbę ofert pracy oraz wynagrodzenie roczne"
   ]
  },
  {
   "cell_type": "code",
   "execution_count": 45,
   "metadata": {},
   "outputs": [],
   "source": [
    "##Po pierwsze, sprawdzam jakie są unikalne wartości, żebym mógł ręcznie stworzyć 3 grupy\n",
    "##Te grupy nie zawierają nieznanych wartości\n",
    "gotowy_df[\"Przychód\"].unique()\n",
    "\n",
    "Poniżej_100M = [\"Less than $1 million (USD)\", \"$1 to $5 million (USD)\", \"$5 to $10 million (USD)\", \n",
    "\"$10 to $25 million (USD)\", \"$25 to $50 million (USD)\",\"$50 to $100 million (USD)\"]\n",
    "\n",
    "Pomiędzy_100M_1Mld = [\"$100 to $500 million (USD)\", \"$500 million to $1 billion (USD)\"]\n",
    "\n",
    "Powyżej_1Mld = [\"$1 to $2 billion (USD)\", \"$2 to $5 billion (USD)\",\"$5 to $10 billion (USD)\", \"$10+ billion (USD)\"]"
   ]
  },
  {
   "cell_type": "code",
   "execution_count": 46,
   "metadata": {},
   "outputs": [],
   "source": [
    "##Ponieważ musiałbym to zrobić dla każdego sektora, stworzyłem kolejną funkcję, aby to ułatwić.\n",
    "\n",
    "##Po pierwsze, wyodrębniam wiersze dla 3 najlepszych stanów dla każdego sektora.\n",
    "##Wtedy usuwam te wiersze z przychodami pokazujące się jako nieznane\n",
    "##Na koniec zmieniam wartości w kolumnie przychodów, zgodnie z powyższymi grupami, które działają jako zbiory wartości\n",
    "##dla wartości w naszym df\n",
    "def Przychód_zbiory(Sektor_wiersze, Top3_stany):\n",
    "    \"\"\"\n",
    "    Sektor_wiersze - dotyczy df z wierszami tylko dla konkretnego sektora (np. IT_wsz_wiersze)\n",
    "    Top3_stany - top 3 stanów dla sektora, który chcemy sprawdzić (np. Top3_stany_IT)\n",
    "    \"\"\"\n",
    "\n",
    "    Sektor_wiersze = Sektor_wiersze[(Sektor_wiersze[\"Lokacja-Stan\"].isin(Top3_stany.index))]\n",
    "    Sektor_wiersze = Sektor_wiersze[Sektor_wiersze[\"Przychód\"] != \"Unknown / Non-Applicable\"]\n",
    "\n",
    "    Sektor_wiersze.loc[Sektor_wiersze[\"Przychód\"].isin(Poniżej_100M), \"Przychód\"] = \"Poniżej $100M\"\n",
    "    Sektor_wiersze.loc[Sektor_wiersze[\"Przychód\"].isin(Pomiędzy_100M_1Mld), \"Przychód\"] = \"Pomiędzy $100M - $1Mld\"\n",
    "    Sektor_wiersze.loc[Sektor_wiersze[\"Przychód\"].isin(Powyżej_1Mld), \"Przychód\"] = \"Powyżej - $1Mld\"\n",
    "\n",
    "    return Sektor_wiersze"
   ]
  },
  {
   "cell_type": "code",
   "execution_count": 47,
   "metadata": {},
   "outputs": [
    {
     "data": {
      "text/plain": [
       "array(['Pomiędzy $100M - $1Mld', 'Powyżej - $1Mld', 'Poniżej $100M'],\n",
       "      dtype=object)"
      ]
     },
     "execution_count": 47,
     "metadata": {},
     "output_type": "execute_result"
    }
   ],
   "source": [
    "##Użycie funkcji\n",
    "Prz_zbiór_IT = Przychód_zbiory(IT_wsz_wiersze, Top3_stany_IT)\n",
    "\n",
    "Prz_zbiór_BP = Przychód_zbiory(BP_wsz_wiersze, Top3_stany_BP)\n",
    "\n",
    "Prz_zbiór_Ubez = Przychód_zbiory(Ubez_wsz_wiersze, Top3_stany_Ubez)\n",
    "\n",
    "##Upewnienie się, że wartości są prawidłowe\n",
    "Prz_zbiór_IT[\"Przychód\"].unique()"
   ]
  },
  {
   "cell_type": "code",
   "execution_count": 48,
   "metadata": {},
   "outputs": [],
   "source": [
    "#Skoro wartości zostały zmienione, nadszedł czas, aby je pogrupować\n",
    "##Do tego również używam funkcji\n",
    "\n",
    "def Przychód_grupowanie(Prz_zbiór_sektor):\n",
    "    \"\"\"\"\n",
    "    Prz_zbiór_sektor - df z wartościami przychodów zmodyfikowanymi w oparciu o 3 zbiory (np. Prz_zbiór_IT) \n",
    "    \"\"\"\n",
    "    tymczasowe = Prz_zbiór_sektor.groupby([\"Przychód\", \"Lokacja-Stan\"]).agg(\n",
    "    Średnie_Roczne_Wyn = pd.NamedAgg(column=\"Średnie Wyn. Roczne\", aggfunc=\"mean\"),\n",
    "    Ilość_ofert = pd.NamedAgg(column=\"Lokacja-Stan\", aggfunc=\"count\")).round(2).sort_index()\n",
    "    return tymczasowe"
   ]
  },
  {
   "cell_type": "code",
   "execution_count": 49,
   "metadata": {},
   "outputs": [],
   "source": [
    "##Użycie funkcji \n",
    "Przychód_IT = Przychód_grupowanie(Prz_zbiór_IT)\n",
    "Przychód_BP = Przychód_grupowanie(Prz_zbiór_BP)\n",
    "Przychód_Ubez = Przychód_grupowanie(Prz_zbiór_Ubez)"
   ]
  },
  {
   "cell_type": "code",
   "execution_count": 50,
   "metadata": {},
   "outputs": [
    {
     "data": {
      "text/html": [
       "<div>\n",
       "<style scoped>\n",
       "    .dataframe tbody tr th:only-of-type {\n",
       "        vertical-align: middle;\n",
       "    }\n",
       "\n",
       "    .dataframe tbody tr th {\n",
       "        vertical-align: top;\n",
       "    }\n",
       "\n",
       "    .dataframe thead th {\n",
       "        text-align: right;\n",
       "    }\n",
       "</style>\n",
       "<table border=\"1\" class=\"dataframe\">\n",
       "  <thead>\n",
       "    <tr style=\"text-align: right;\">\n",
       "      <th></th>\n",
       "      <th></th>\n",
       "      <th>Średnie_Roczne_Wyn</th>\n",
       "      <th>Ilość_ofert</th>\n",
       "    </tr>\n",
       "    <tr>\n",
       "      <th>Przychód</th>\n",
       "      <th>Lokacja-Stan</th>\n",
       "      <th></th>\n",
       "      <th></th>\n",
       "    </tr>\n",
       "  </thead>\n",
       "  <tbody>\n",
       "    <tr>\n",
       "      <th rowspan=\"2\" valign=\"top\">Pomiędzy $100M - $1Mld</th>\n",
       "      <th>CA</th>\n",
       "      <td>129500.00</td>\n",
       "      <td>5</td>\n",
       "    </tr>\n",
       "    <tr>\n",
       "      <th>NY</th>\n",
       "      <td>122500.00</td>\n",
       "      <td>4</td>\n",
       "    </tr>\n",
       "    <tr>\n",
       "      <th rowspan=\"3\" valign=\"top\">Poniżej $100M</th>\n",
       "      <th>CA</th>\n",
       "      <td>144725.00</td>\n",
       "      <td>20</td>\n",
       "    </tr>\n",
       "    <tr>\n",
       "      <th>NY</th>\n",
       "      <td>47000.00</td>\n",
       "      <td>2</td>\n",
       "    </tr>\n",
       "    <tr>\n",
       "      <th>WA</th>\n",
       "      <td>89000.00</td>\n",
       "      <td>1</td>\n",
       "    </tr>\n",
       "    <tr>\n",
       "      <th rowspan=\"3\" valign=\"top\">Powyżej - $1Mld</th>\n",
       "      <th>CA</th>\n",
       "      <td>128214.29</td>\n",
       "      <td>14</td>\n",
       "    </tr>\n",
       "    <tr>\n",
       "      <th>NY</th>\n",
       "      <td>147000.00</td>\n",
       "      <td>1</td>\n",
       "    </tr>\n",
       "    <tr>\n",
       "      <th>WA</th>\n",
       "      <td>184500.00</td>\n",
       "      <td>2</td>\n",
       "    </tr>\n",
       "  </tbody>\n",
       "</table>\n",
       "</div>"
      ],
      "text/plain": [
       "                                     Średnie_Roczne_Wyn  Ilość_ofert\n",
       "Przychód               Lokacja-Stan                                 \n",
       "Pomiędzy $100M - $1Mld CA                     129500.00            5\n",
       "                       NY                     122500.00            4\n",
       "Poniżej $100M          CA                     144725.00           20\n",
       "                       NY                      47000.00            2\n",
       "                       WA                      89000.00            1\n",
       "Powyżej - $1Mld        CA                     128214.29           14\n",
       "                       NY                     147000.00            1\n",
       "                       WA                     184500.00            2"
      ]
     },
     "execution_count": 50,
     "metadata": {},
     "output_type": "execute_result"
    }
   ],
   "source": [
    "Przychód_IT"
   ]
  },
  {
   "cell_type": "code",
   "execution_count": 51,
   "metadata": {},
   "outputs": [
    {
     "data": {
      "text/html": [
       "<div>\n",
       "<style scoped>\n",
       "    .dataframe tbody tr th:only-of-type {\n",
       "        vertical-align: middle;\n",
       "    }\n",
       "\n",
       "    .dataframe tbody tr th {\n",
       "        vertical-align: top;\n",
       "    }\n",
       "\n",
       "    .dataframe thead th {\n",
       "        text-align: right;\n",
       "    }\n",
       "</style>\n",
       "<table border=\"1\" class=\"dataframe\">\n",
       "  <thead>\n",
       "    <tr style=\"text-align: right;\">\n",
       "      <th></th>\n",
       "      <th></th>\n",
       "      <th>Średnie_Roczne_Wyn</th>\n",
       "      <th>Ilość_ofert</th>\n",
       "    </tr>\n",
       "    <tr>\n",
       "      <th>Przychód</th>\n",
       "      <th>Lokacja-Stan</th>\n",
       "      <th></th>\n",
       "      <th></th>\n",
       "    </tr>\n",
       "  </thead>\n",
       "  <tbody>\n",
       "    <tr>\n",
       "      <th rowspan=\"2\" valign=\"top\">Pomiędzy $100M - $1Mld</th>\n",
       "      <th>CA</th>\n",
       "      <td>171000.00</td>\n",
       "      <td>2</td>\n",
       "    </tr>\n",
       "    <tr>\n",
       "      <th>MA</th>\n",
       "      <td>105500.00</td>\n",
       "      <td>5</td>\n",
       "    </tr>\n",
       "    <tr>\n",
       "      <th rowspan=\"2\" valign=\"top\">Poniżej $100M</th>\n",
       "      <th>CA</th>\n",
       "      <td>91000.00</td>\n",
       "      <td>6</td>\n",
       "    </tr>\n",
       "    <tr>\n",
       "      <th>MA</th>\n",
       "      <td>107500.00</td>\n",
       "      <td>6</td>\n",
       "    </tr>\n",
       "    <tr>\n",
       "      <th rowspan=\"3\" valign=\"top\">Powyżej - $1Mld</th>\n",
       "      <th>CA</th>\n",
       "      <td>153785.71</td>\n",
       "      <td>7</td>\n",
       "    </tr>\n",
       "    <tr>\n",
       "      <th>MA</th>\n",
       "      <td>122451.61</td>\n",
       "      <td>31</td>\n",
       "    </tr>\n",
       "    <tr>\n",
       "      <th>NY</th>\n",
       "      <td>149200.00</td>\n",
       "      <td>5</td>\n",
       "    </tr>\n",
       "  </tbody>\n",
       "</table>\n",
       "</div>"
      ],
      "text/plain": [
       "                                     Średnie_Roczne_Wyn  Ilość_ofert\n",
       "Przychód               Lokacja-Stan                                 \n",
       "Pomiędzy $100M - $1Mld CA                     171000.00            2\n",
       "                       MA                     105500.00            5\n",
       "Poniżej $100M          CA                      91000.00            6\n",
       "                       MA                     107500.00            6\n",
       "Powyżej - $1Mld        CA                     153785.71            7\n",
       "                       MA                     122451.61           31\n",
       "                       NY                     149200.00            5"
      ]
     },
     "execution_count": 51,
     "metadata": {},
     "output_type": "execute_result"
    }
   ],
   "source": [
    "Przychód_BP"
   ]
  },
  {
   "cell_type": "code",
   "execution_count": 52,
   "metadata": {},
   "outputs": [
    {
     "data": {
      "text/html": [
       "<div>\n",
       "<style scoped>\n",
       "    .dataframe tbody tr th:only-of-type {\n",
       "        vertical-align: middle;\n",
       "    }\n",
       "\n",
       "    .dataframe tbody tr th {\n",
       "        vertical-align: top;\n",
       "    }\n",
       "\n",
       "    .dataframe thead th {\n",
       "        text-align: right;\n",
       "    }\n",
       "</style>\n",
       "<table border=\"1\" class=\"dataframe\">\n",
       "  <thead>\n",
       "    <tr style=\"text-align: right;\">\n",
       "      <th></th>\n",
       "      <th></th>\n",
       "      <th>Średnie_Roczne_Wyn</th>\n",
       "      <th>Ilość_ofert</th>\n",
       "    </tr>\n",
       "    <tr>\n",
       "      <th>Przychód</th>\n",
       "      <th>Lokacja-Stan</th>\n",
       "      <th></th>\n",
       "      <th></th>\n",
       "    </tr>\n",
       "  </thead>\n",
       "  <tbody>\n",
       "    <tr>\n",
       "      <th>Pomiędzy $100M - $1Mld</th>\n",
       "      <th>NY</th>\n",
       "      <td>108250.00</td>\n",
       "      <td>2</td>\n",
       "    </tr>\n",
       "    <tr>\n",
       "      <th rowspan=\"3\" valign=\"top\">Powyżej - $1Mld</th>\n",
       "      <th>IL</th>\n",
       "      <td>201583.33</td>\n",
       "      <td>6</td>\n",
       "    </tr>\n",
       "    <tr>\n",
       "      <th>NC</th>\n",
       "      <td>102000.00</td>\n",
       "      <td>1</td>\n",
       "    </tr>\n",
       "    <tr>\n",
       "      <th>NY</th>\n",
       "      <td>132600.00</td>\n",
       "      <td>5</td>\n",
       "    </tr>\n",
       "  </tbody>\n",
       "</table>\n",
       "</div>"
      ],
      "text/plain": [
       "                                     Średnie_Roczne_Wyn  Ilość_ofert\n",
       "Przychód               Lokacja-Stan                                 \n",
       "Pomiędzy $100M - $1Mld NY                     108250.00            2\n",
       "Powyżej - $1Mld        IL                     201583.33            6\n",
       "                       NC                     102000.00            1\n",
       "                       NY                     132600.00            5"
      ]
     },
     "execution_count": 52,
     "metadata": {},
     "output_type": "execute_result"
    }
   ],
   "source": [
    "Przychód_Ubez"
   ]
  },
  {
   "attachments": {},
   "cell_type": "markdown",
   "metadata": {},
   "source": [
    "###### Wyodrębnienie danych o przychodach dla każdego stanu i sektora, tak aby wartości przychodów były pokazywane dla każdego stanu osobno, a nie dla wszystkich stanów jednocześnie - przyda się to później w wizualizacjach"
   ]
  },
  {
   "cell_type": "code",
   "execution_count": 53,
   "metadata": {},
   "outputs": [],
   "source": [
    "##Ponownie tworzymy funkcję wyodrębniającą dane przychodu dla każdego stanu w każdym sektorze\n",
    "def Przychód_stan(Przychód_sektor, stan):\n",
    "    \"\"\"\"\n",
    "    Przychód_sektor - df z wierszami pogrupowanymi według grup przychodów (np. Przychód_IT)\n",
    "    stan - każdy stan z Top 3 stanów dla sektora, który sprawdzamy (\"CA\" na przykład)\n",
    "            musi to być ciąg znaków\n",
    "    \"\"\"\n",
    "    wynik = Przychód_sektor.reset_index()[Przychód_sektor.reset_index()[\"Lokacja-Stan\"] == stan]\n",
    "    return wynik"
   ]
  },
  {
   "cell_type": "code",
   "execution_count": 54,
   "metadata": {},
   "outputs": [],
   "source": [
    "##Użycie funkcji - IT\n",
    "prz_ca_it = Przychód_stan(Przychód_IT, \"CA\")\n",
    "prz_ny_it = Przychód_stan(Przychód_IT, \"NY\")\n",
    "prz_wa_it = Przychód_stan(Przychód_IT, \"WA\")"
   ]
  },
  {
   "cell_type": "code",
   "execution_count": 55,
   "metadata": {},
   "outputs": [],
   "source": [
    "##Użycie funkcji - BP\n",
    "prz_ca_bp = Przychód_stan(Przychód_BP, \"CA\")\n",
    "prz_ma_bp = Przychód_stan(Przychód_BP, \"MA\")\n",
    "prz_ny_bp = Przychód_stan(Przychód_BP, \"NY\")"
   ]
  },
  {
   "cell_type": "code",
   "execution_count": 56,
   "metadata": {},
   "outputs": [],
   "source": [
    "##Użycie funkcji - Insurance\n",
    "prz_il_ubez = Przychód_stan( Przychód_Ubez, \"IL\")\n",
    "prz_nc_ubez = Przychód_stan( Przychód_Ubez, \"NC\")\n",
    "prz_ny_ubez = Przychód_stan( Przychód_Ubez, \"NY\")"
   ]
  },
  {
   "cell_type": "code",
   "execution_count": 57,
   "metadata": {},
   "outputs": [
    {
     "data": {
      "text/html": [
       "<div>\n",
       "<style scoped>\n",
       "    .dataframe tbody tr th:only-of-type {\n",
       "        vertical-align: middle;\n",
       "    }\n",
       "\n",
       "    .dataframe tbody tr th {\n",
       "        vertical-align: top;\n",
       "    }\n",
       "\n",
       "    .dataframe thead th {\n",
       "        text-align: right;\n",
       "    }\n",
       "</style>\n",
       "<table border=\"1\" class=\"dataframe\">\n",
       "  <thead>\n",
       "    <tr style=\"text-align: right;\">\n",
       "      <th></th>\n",
       "      <th>Przychód</th>\n",
       "      <th>Lokacja-Stan</th>\n",
       "      <th>Średnie_Roczne_Wyn</th>\n",
       "      <th>Ilość_ofert</th>\n",
       "    </tr>\n",
       "  </thead>\n",
       "  <tbody>\n",
       "    <tr>\n",
       "      <th>0</th>\n",
       "      <td>Pomiędzy $100M - $1Mld</td>\n",
       "      <td>NY</td>\n",
       "      <td>108250.0</td>\n",
       "      <td>2</td>\n",
       "    </tr>\n",
       "    <tr>\n",
       "      <th>3</th>\n",
       "      <td>Powyżej - $1Mld</td>\n",
       "      <td>NY</td>\n",
       "      <td>132600.0</td>\n",
       "      <td>5</td>\n",
       "    </tr>\n",
       "  </tbody>\n",
       "</table>\n",
       "</div>"
      ],
      "text/plain": [
       "                 Przychód Lokacja-Stan  Średnie_Roczne_Wyn  Ilość_ofert\n",
       "0  Pomiędzy $100M - $1Mld           NY            108250.0            2\n",
       "3         Powyżej - $1Mld           NY            132600.0            5"
      ]
     },
     "execution_count": 57,
     "metadata": {},
     "output_type": "execute_result"
    }
   ],
   "source": [
    "##Sprawdzenie, czy funkcja zadziałała\n",
    "prz_ca_it\n",
    "prz_ma_bp\n",
    "prz_ny_ubez"
   ]
  },
  {
   "attachments": {},
   "cell_type": "markdown",
   "metadata": {},
   "source": [
    "### Wizualizacje"
   ]
  },
  {
   "attachments": {},
   "cell_type": "markdown",
   "metadata": {},
   "source": [
    "###### Najpierw wymieniam wszystkie zmienne zawierające wartości potrzebne do tworzenia wykresów"
   ]
  },
  {
   "cell_type": "code",
   "execution_count": 58,
   "metadata": {},
   "outputs": [
    {
     "data": {
      "text/html": [
       "<div>\n",
       "<style scoped>\n",
       "    .dataframe tbody tr th:only-of-type {\n",
       "        vertical-align: middle;\n",
       "    }\n",
       "\n",
       "    .dataframe tbody tr th {\n",
       "        vertical-align: top;\n",
       "    }\n",
       "\n",
       "    .dataframe thead th {\n",
       "        text-align: right;\n",
       "    }\n",
       "</style>\n",
       "<table border=\"1\" class=\"dataframe\">\n",
       "  <thead>\n",
       "    <tr style=\"text-align: right;\">\n",
       "      <th></th>\n",
       "      <th>Przychód</th>\n",
       "      <th>Lokacja-Stan</th>\n",
       "      <th>Średnie_Roczne_Wyn</th>\n",
       "      <th>Ilość_ofert</th>\n",
       "    </tr>\n",
       "  </thead>\n",
       "  <tbody>\n",
       "    <tr>\n",
       "      <th>0</th>\n",
       "      <td>Pomiędzy $100M - $1Mld</td>\n",
       "      <td>NY</td>\n",
       "      <td>108250.0</td>\n",
       "      <td>2</td>\n",
       "    </tr>\n",
       "    <tr>\n",
       "      <th>3</th>\n",
       "      <td>Powyżej - $1Mld</td>\n",
       "      <td>NY</td>\n",
       "      <td>132600.0</td>\n",
       "      <td>5</td>\n",
       "    </tr>\n",
       "  </tbody>\n",
       "</table>\n",
       "</div>"
      ],
      "text/plain": [
       "                 Przychód Lokacja-Stan  Średnie_Roczne_Wyn  Ilość_ofert\n",
       "0  Pomiędzy $100M - $1Mld           NY            108250.0            2\n",
       "3         Powyżej - $1Mld           NY            132600.0            5"
      ]
     },
     "execution_count": 58,
     "metadata": {},
     "output_type": "execute_result"
    }
   ],
   "source": [
    "##Top 3 sektory z >= 10 ofertami pracy i ogólna średnia wynagrodzenia dla wszystkich sektorów z >= 10 ofertami pracy\n",
    "Top_3_10\n",
    "śr_waż\n",
    "\n",
    "##Top 3 stany dla Top 3 sektorów z największą liczbą ofert pracy i średnim wynagrodzeniem na stan \n",
    "##co najmniej tak wysokim jak średnia na cały sektor\n",
    "Top3_stany_IT\n",
    "Top3_stany_BP\n",
    "Top3_stany_Ubez\n",
    "\n",
    "##Wpływ przychodów na liczbę ofert pracy i średnie wynagrodzenie w Top 3 stanach z Top 3 sektorów\n",
    "prz_ca_it\n",
    "prz_ny_it\n",
    "prz_wa_it\n",
    "\n",
    "prz_ca_bp\n",
    "prz_ma_bp\n",
    "prz_ny_bp\n",
    "\n",
    "prz_il_ubez\n",
    "prz_nc_ubez\n",
    "prz_ny_ubez "
   ]
  },
  {
   "attachments": {},
   "cell_type": "markdown",
   "metadata": {},
   "source": [
    "##### Top 3 sektory i Top 3 stany"
   ]
  },
  {
   "cell_type": "code",
   "execution_count": 59,
   "metadata": {},
   "outputs": [
    {
     "data": {
      "image/png": "[encoded data removed]",
      "text/plain": [
       "<Figure size 1200x800 with 7 Axes>"
      ]
     },
     "metadata": {},
     "output_type": "display_data"
    },
    {
     "data": {
      "text/plain": [
       "''"
      ]
     },
     "execution_count": 59,
     "metadata": {},
     "output_type": "execute_result"
    }
   ],
   "source": [
    "##Najpierw tworzę figurę, na której będę pracować\n",
    "fig = plt.figure(figsize=[12,8])\n",
    "\n",
    "######IT#######\n",
    "\n",
    "##Następnie tworzę subplot pokazujący Top 3 sektory i linię z średnią dla wszystkich sektorów\n",
    "ax_sektory = fig.add_subplot(2,3,(1,3))\n",
    "\n",
    "ax_sektory.bar(Top_3_10.index, Top_3_10[\"Średnie_Roczne_Wyn\"], color=[\"#1874CD\", '#00CD66','#CD8500'])\n",
    "ax_sektory.tick_params(axis=\"x\", which=\"both\", bottom=False, labelbottom=False)\n",
    "ax_sektory.set_title(\"Top 3 sektory z najwyższym średnim wynagrodzeniem (wszystkie stany)\", fontdict={\"size\" : 25}, y=1.1)\n",
    "\n",
    "ax_sektory.axhline(śr_waż,color='Firebrick', linestyle=\"--\", label=\"Średnie wynagrodzenie dla wszystkich sektorów (>= 10 ofert pracy)\")\n",
    "\n",
    "\n",
    "##Następnie tworzę średnie wynagrodzenie w IT dla top 3 stanów\n",
    "ax_stanwyn_IT = fig.add_subplot(2,3,4)\n",
    "\n",
    "ax_stanwyn_IT.bar(Top3_stany_IT.index, Top3_stany_IT[\"Średnie_Roczne_Wyn\"], color=\"#1874CD\", \n",
    "label=\"IT Średnie wynagrodzenie\")\n",
    "\n",
    "##A także liczbę ofert dla IT w Top 3 stanach na drugiej osi\n",
    "ax_stanofer_IT = ax_stanwyn_IT.twinx()\n",
    "ax_stanofer_IT.bar(Top3_stany_IT.index, Top3_stany_IT[\"Ilość_ofert\"], color='#6CA6CD', label=\"Liczba ofert pracy\")\n",
    "ax_stanofer_IT.set_ylim(0,100)\n",
    "\n",
    "######BP#######\n",
    "\n",
    "##Następnie, średnie wynagrodzenie dla BP dla Top 3 stanów\n",
    "ax_stanwyn_BP = fig.add_subplot(2,3,5)\n",
    "\n",
    "ax_stanwyn_BP.bar(Top3_stany_BP.index, Top3_stany_BP[\"Średnie_Roczne_Wyn\"], color=\"#00CD66\", \n",
    "label=\"Biotech & Pharmaceuticals Średnie wynagrodzenie\")\n",
    "ax_stanwyn_BP.set_title(\n",
    "    \"\"\"Top 3 stany z największą liczbą ofert pracy i najwyższym średnim wynagrodzeniem \n",
    "    powyżej średniego wynagrodzenia dla całego Sektora (Top 3 sektory)\"\"\",\n",
    "    fontdict={\"size\" : 20}, y=1.1)\n",
    "\n",
    "##I, liczbę ofert pracy dla BP dla Top 3 stansów\n",
    "ax_stanofer_BP = ax_stanwyn_BP.twinx()\n",
    "ax_stanofer_BP.bar(Top3_stany_BP.index, Top3_stany_BP[\"Ilość_ofert\"], color='#90EE90', label=\"Liczba ofert pracy\")\n",
    "ax_stanofer_BP.set_ylim(0,100)\n",
    "\n",
    "\n",
    "######Insurance#######\n",
    "\n",
    "##Następnie, średnie wynagrodzenie dla Insurance dla Top 3 stanów\n",
    "ax_stanwyn_Ubez = fig.add_subplot(2,3,6)\n",
    "ax_stanwyn_Ubez.bar(Top3_stany_Ubez.index, Top3_stany_Ubez[\"Średnie_Roczne_Wyn\"], color=\"#CD8500\",\n",
    "label=\"Insurance Średnie wynagrodzenie\")\n",
    "\n",
    "##I, liczbę ofert pracy dla Insurance dla Top 3 stansów\n",
    "ax_stanofer_Ubez = ax_stanwyn_Ubez.twinx()\n",
    "ax_stanofer_Ubez.bar(Top3_stany_Ubez.index, Top3_stany_Ubez[\"Ilość_ofert\"], color='#FFA54F', \n",
    "label=\"Liczba ofert pracy\")\n",
    "ax_stanofer_Ubez.set_ylim(0,100)\n",
    "\n",
    "\n",
    "\n",
    "##Kiedy skończę z ogólnym tworzeniem wykresów, czyszczę wykresy i czynię je bardziej atrakcyjnymi wizualnie\n",
    "##Ponieważ będę stosował ten kod do wszystkich wykresów, stworzyłem pętle, aby to ułatwić.\n",
    "\n",
    "##Ogólne rzeczy mające zastosowanie do wszystkich wykresów (grids, tick_params, ticklabels itp.)\n",
    "for g in [ax_sektory, ax_stanwyn_IT, ax_stanwyn_BP, ax_stanwyn_Ubez]:\n",
    "    g.grid(axis=\"y\", which=\"major\",visible=True)\n",
    "    g.set_axisbelow(True)\n",
    "    g.minorticks_on()\n",
    "    g.tick_params(axis=\"x\", which=\"minor\", bottom=False)\n",
    "\n",
    "for g in [ax_stanofer_IT, ax_stanofer_BP, ax_stanofer_Ubez]:\n",
    "    g.minorticks_on()\n",
    "    g.tick_params(axis=\"x\", which=\"minor\", bottom=False)\n",
    "\n",
    "\n",
    "for g in [ax_sektory, ax_stanwyn_IT, ax_stanwyn_BP, ax_stanwyn_Ubez]:\n",
    "    g.set_yticks(g.get_yticks()[0::2])\n",
    "    g.set_yticklabels([\"$\" + str(\"{:.0f}\".format(x)) for x in g.get_yticks()])\n",
    "\n",
    "\n",
    "##Gdy to już jest zrobione, dodaję ostatni akcent (tight_layout, legend)\n",
    "fig.tight_layout(pad=2)\n",
    "plt.figlegend(fontsize=10, ncols=3, frameon=False, loc=\"center\", bbox_to_anchor=(0.5, -0.05), handleheight=2)\n",
    "plt.show()\n",
    ";\n"
   ]
  },
  {
   "attachments": {},
   "cell_type": "markdown",
   "metadata": {},
   "source": [
    "##### Wpływ przychodów na Top 3 stany dla Top 3 sektorów"
   ]
  },
  {
   "cell_type": "code",
   "execution_count": 60,
   "metadata": {},
   "outputs": [],
   "source": [
    "##Ponieważ zamierzam stworzyć 3 różne wykresy zawierające te same informacje i mające ten sam układ, to\n",
    "##tworzę funkcję, która będzie miała zastosowanie do wszystkich wykresów\n",
    "\n",
    "##Ogólne rzeczy mające zastosowanie do wszystkich wykresów (grids, tick_params, ticklabels itp.)\n",
    "def różne(ax_indeks0, ax_indeks1, ax_indeks2, twinax0, twinax1, twinax2):\n",
    "    for g in [ax_indeks0, ax_indeks1, ax_indeks2]:\n",
    "        g.grid(axis=\"x\", which=\"major\",visible=True)\n",
    "        g.set_axisbelow(True)\n",
    "        g.minorticks_on()\n",
    "        g.tick_params(axis=\"y\", which=\"minor\", left=False)\n",
    "\n",
    "    for g in [twinax0, twinax1, twinax2]:\n",
    "        g.minorticks_on()\n",
    "        g.tick_params(axis=\"y\", which=\"minor\", left=False)\n",
    "\n",
    "\n",
    "    for g in [ax_indeks0, ax_indeks1, ax_indeks2]:\n",
    "        g.set_xticks(g.get_xticks()[0::2])\n",
    "        g.set_xticklabels([\"$\" + str(\"{:.0f}\".format(x)) for x in g.get_xticks()])"
   ]
  },
  {
   "attachments": {},
   "cell_type": "markdown",
   "metadata": {},
   "source": [
    "##### Information Technology"
   ]
  },
  {
   "cell_type": "code",
   "execution_count": 61,
   "metadata": {},
   "outputs": [
    {
     "data": {
      "image/png": "[encoded data removed]",
      "text/plain": [
       "<Figure size 700x900 with 6 Axes>"
      ]
     },
     "metadata": {},
     "output_type": "display_data"
    },
    {
     "data": {
      "text/plain": [
       "''"
      ]
     },
     "execution_count": 61,
     "metadata": {},
     "output_type": "execute_result"
    }
   ],
   "source": [
    "##Najpierw tworzę subplot i określam odstępy przy użyciu funkcji tight_layout, gdyż określając  \n",
    "##je później nie działają one poprawnie na wykresie\n",
    "fig, ax = plt.subplots(3,1, figsize=(7,9))\n",
    "fig.tight_layout(pad=7)\n",
    "\n",
    "##Następnie tworzę poziomy wykres słupkowy, aby pokazać wpływ przychodu w CA\n",
    "ax[0].barh(prz_ca_it[\"Przychód\"], prz_ca_it[\"Średnie_Roczne_Wyn\"], color=\"#1874CD\", label=\"IT średnie wynagrodzenie\")\n",
    "ax[0].set_title(\"CA\", fontsize=20, y=1.2)\n",
    "ax0_oferty = ax[0].twiny()\n",
    "ax0_oferty.barh(prz_ca_it[\"Przychód\"], prz_ca_it[\"Ilość_ofert\"], color=\"#6CA6CD\", label=\"Liczba ofert pracy\")\n",
    "ax0_oferty.set_xlim(0,25)\n",
    "\n",
    "##Następnie tworzę poziomy wykres słupkowy, aby pokazać wpływ przychodu w NY\n",
    "ax[1].barh(prz_ny_it[\"Przychód\"], prz_ny_it[\"Średnie_Roczne_Wyn\"], color=\"#1874CD\")\n",
    "ax[1].set_title(\"NY\", fontsize=20, y=1.2)\n",
    "ax1_oferty = ax[1].twiny()\n",
    "ax1_oferty.barh(prz_ny_it[\"Przychód\"], prz_ny_it[\"Ilość_ofert\"], color=\"#6CA6CD\")\n",
    "ax1_oferty.set_xlim(0,25)\n",
    "\n",
    "##Następnie tworzę poziomy wykres słupkowy, aby pokazać wpływ przychodu w WA\n",
    "ax[2].barh(prz_wa_it[\"Przychód\"], prz_wa_it[\"Średnie_Roczne_Wyn\"], color=\"#1874CD\")\n",
    "ax[2].set_title(\"WA\", fontsize=20, y=1.2)\n",
    "ax2_oferty = ax[2].twiny()\n",
    "ax2_oferty.barh(prz_wa_it[\"Przychód\"], prz_wa_it[\"Ilość_ofert\"], color=\"#6CA6CD\")\n",
    "ax2_oferty.set_xlim(0,25)\n",
    "\n",
    "##Kiedy skończę, dodaję funkcję do czyszczenia wykresów\n",
    "różne(ax[0],ax[1],ax[2],ax0_oferty,ax1_oferty,ax2_oferty)\n",
    "\n",
    "#Po zrobieniu tego, czyszczę etykiety osi, ponieważ posiadanie \"$\" w etykiecie Pomiędzy $100Mil - $1Mld \n",
    "##zmienia je na kursywę\n",
    "\n",
    "ax[0].set_yticks(prz_ca_it[\"Przychód\"])\n",
    "ax[0].set_yticklabels(['Pomiędzy \\$100 Mil - \\$1 Mld','Poniżej $100 Mil','Powyżej $1Mld'])\n",
    "\n",
    "ax[1].set_yticks(prz_ny_it[\"Przychód\"])\n",
    "ax[1].set_yticklabels(['Pomiędzy \\$100 Mil - \\$1 Mld','Poniżej $100 Mil','Powyżej $1Mld'])\n",
    "\n",
    "##Na samym końcu, dodaję tytuł do całej figury i dodaję legendę\n",
    "fig.supylabel(\"Wpływ przychodu na średnie wynagrodzenie i liczbę ofert pracy w Top 3 stanach w sektorze\", \n",
    "fontsize=13,x=-0.15)\n",
    "plt.figlegend(fontsize=10, ncols=3, frameon=False, loc=\"center\", bbox_to_anchor=(0.5, 0.02), handleheight=2)\n",
    "plt.show()\n",
    ";"
   ]
  },
  {
   "attachments": {},
   "cell_type": "markdown",
   "metadata": {},
   "source": [
    "##### Biotech & Pharmaceuticals"
   ]
  },
  {
   "cell_type": "code",
   "execution_count": 62,
   "metadata": {},
   "outputs": [
    {
     "data": {
      "image/png": "[encoded data removed]",
      "text/plain": [
       "<Figure size 700x900 with 6 Axes>"
      ]
     },
     "metadata": {},
     "output_type": "display_data"
    },
    {
     "data": {
      "text/plain": [
       "''"
      ]
     },
     "execution_count": 62,
     "metadata": {},
     "output_type": "execute_result"
    }
   ],
   "source": [
    "##Najpierw tworzę subplot i określam odstępy przy użyciu funkcji tight_layout, gdyż określając  \n",
    "##je później nie działają one poprawnie na wykresieoes not apply\n",
    "\n",
    "fig, ax = plt.subplots(3,1, figsize=(7,9))\n",
    "fig.tight_layout(pad=7)\n",
    "\n",
    "##Następnie tworzę poziomy wykres słupkowy, aby pokazać wpływ przychodów w CA\n",
    "ax[0].barh(prz_ca_bp[\"Przychód\"], prz_ca_bp[\"Średnie_Roczne_Wyn\"], color=\"#00CD66\", label=\"BP średnie wynagrodzenie\")\n",
    "ax[0].set_title(\"CA\", fontsize=20, y=1.2)\n",
    "ax0_oferty = ax[0].twiny()\n",
    "ax0_oferty.barh(prz_ca_bp[\"Przychód\"], prz_ca_bp[\"Ilość_ofert\"], color=\"#90EE90\", label=\"Liczba ofert pracy\")\n",
    "ax0_oferty.set_xlim(0,35)\n",
    "\n",
    "##Następnie tworzę poziomy wykres słupkowy, aby pokazać wpływ przychodu w MA\n",
    "ax[1].barh(prz_ma_bp[\"Przychód\"], prz_ma_bp[\"Średnie_Roczne_Wyn\"], color=\"#00CD66\")\n",
    "ax[1].set_title(\"MA\", fontsize=20, y=1.2)\n",
    "ax1_oferty = ax[1].twiny()\n",
    "ax1_oferty.barh(prz_ma_bp[\"Przychód\"], prz_ma_bp[\"Ilość_ofert\"], color=\"#90EE90\")\n",
    "ax1_oferty.set_xlim(0,35)\n",
    "\n",
    "##Następnie tworzę poziomy wykres słupkowy, aby pokazać wpływ przychodu w NY\n",
    "ax[2].barh(prz_ny_bp[\"Przychód\"], prz_ny_bp[\"Średnie_Roczne_Wyn\"], color=\"#00CD66\")\n",
    "ax[2].set_title(\"NY\", fontsize=20, y=1.2)\n",
    "ax2_oferty = ax[2].twiny()\n",
    "ax2_oferty.barh(prz_ny_bp[\"Przychód\"], prz_ny_bp[\"Ilość_ofert\"], color=\"#90EE90\")\n",
    "ax2_oferty.set_xlim(0,35)\n",
    "\n",
    "##Kiedy skończę, dodaję funkcję do czyszczenia wykresów\n",
    "różne(ax[0],ax[1],ax[2],ax0_oferty,ax1_oferty,ax2_oferty)\n",
    "\n",
    "#Po zrobieniu tego, czyszczę etykiety osi, ponieważ posiadanie \"$\" w etykiecie Pomiędzy $100Mil - $1Mld \n",
    "##zmienia je na kursywę\n",
    "\n",
    "ax[0].set_yticks(prz_ca_bp[\"Przychód\"])\n",
    "ax[0].set_yticklabels(['Pomiędzy \\$100 Mil - \\$1 Mld','Poniżej $100 Mil','Powyżej $1Mld'])\n",
    "\n",
    "ax[1].set_yticks(prz_ma_bp[\"Przychód\"])\n",
    "ax[1].set_yticklabels(['Pomiędzy \\$100 Mil - \\$1 Mld','Poniżej $100 Mil','Powyżej $1Mld'])\n",
    "\n",
    "##Na samym końcu, dodaję tytuł do całej figury i dodaję legendę\n",
    "fig.supylabel(\"Wpływ przychodu na średnie wynagrodzenie i liczbę ofert pracy w Top 3 stanach w sektorze\", \n",
    "fontsize=13,x=-0.15)\n",
    "plt.figlegend(fontsize=10, ncols=3, frameon=False, loc=\"center\", bbox_to_anchor=(0.5, 0.02), handleheight=2)\n",
    "plt.show()\n",
    ";"
   ]
  },
  {
   "attachments": {},
   "cell_type": "markdown",
   "metadata": {},
   "source": [
    "##### Insurance"
   ]
  },
  {
   "cell_type": "code",
   "execution_count": 63,
   "metadata": {},
   "outputs": [
    {
     "data": {
      "image/png": "[encoded data removed]",
      "text/plain": [
       "<Figure size 700x900 with 6 Axes>"
      ]
     },
     "metadata": {},
     "output_type": "display_data"
    },
    {
     "data": {
      "text/plain": [
       "''"
      ]
     },
     "execution_count": 63,
     "metadata": {},
     "output_type": "execute_result"
    }
   ],
   "source": [
    "##Najpierw tworzę subplot i określam odstępy przy użyciu funkcji tight_layout, gdyż określając  \n",
    "##je później nie działają one poprawnie na wykresieoes not apply\n",
    "\n",
    "fig, ax = plt.subplots(3,1, figsize=(7,9))\n",
    "fig.tight_layout(pad=7)\n",
    "\n",
    "##Następnie tworzę poziomy wykres słupkowy, aby pokazać wpływ przychodów w IL\n",
    "ax[0].barh(prz_il_ubez[\"Przychód\"], prz_il_ubez[\"Średnie_Roczne_Wyn\"], color=\"#CD8500\", label=\"Ubez. średnie wynagrodzenie\")\n",
    "ax[0].set_title(\"IL\", fontsize=20, y=1.2)\n",
    "ax0_oferty = ax[0].twiny()\n",
    "ax0_oferty.barh(prz_il_ubez[\"Przychód\"], prz_il_ubez[\"Ilość_ofert\"], color=\"#FFA54F\", label=\"Liczba ofert pracy\")\n",
    "ax0_oferty.set_xlim(0,25)\n",
    "\n",
    "##Następnie tworzę poziomy wykres słupkowy, aby pokazać wpływ przychodu w NC\n",
    "ax[1].barh(prz_nc_ubez[\"Przychód\"], prz_nc_ubez[\"Średnie_Roczne_Wyn\"], color=\"#CD8500\")\n",
    "ax[1].set_title(\"NC\", fontsize=20, y=1.2)\n",
    "ax1_oferty = ax[1].twiny()\n",
    "ax1_oferty.barh(prz_nc_ubez[\"Przychód\"], prz_nc_ubez[\"Ilość_ofert\"], color=\"#FFA54F\")\n",
    "ax1_oferty.set_xlim(0,25)\n",
    "\n",
    "##Następnie tworzę poziomy wykres słupkowy, aby pokazać wpływ przychodu w NY\n",
    "ax[2].barh(prz_ny_ubez[\"Przychód\"], prz_ny_ubez[\"Średnie_Roczne_Wyn\"], color=\"#CD8500\")\n",
    "ax[2].set_title(\"NY\", fontsize=20, y=1.2)\n",
    "ax2_oferty = ax[2].twiny()\n",
    "ax2_oferty.barh(prz_ny_ubez[\"Przychód\"], prz_ny_ubez[\"Ilość_ofert\"], color=\"#FFA54F\")\n",
    "ax2_oferty.set_xlim(0,25)\n",
    "\n",
    "##Kiedy skończę, dodaję funkcję do czyszczenia wykresów\n",
    "różne(ax[0],ax[1],ax[2],ax0_oferty,ax1_oferty,ax2_oferty)\n",
    "\n",
    "#Po zrobieniu tego, czyszczę etykiety osi, ponieważ posiadanie \"$\" w etykiecie Pomiędzy $100Mil - $1Mld \n",
    "##zmienia je na kursywę\n",
    "ax[2].set_yticks(prz_ny_ubez[\"Przychód\"])\n",
    "ax[2].set_yticklabels(['Pomiędzy \\$100 Mil - \\$1 Mld', 'Powyżej $1Mld'])\n",
    "\n",
    "##Na samym końcu, dodaję tytuł do całej figury i dodaję legendę\n",
    "fig.supylabel(\"Wpływ przychodu na średnie wynagrodzenie i liczbę ofert pracy w Top 3 stanach w sektorze\", \n",
    "fontsize=13,x=-0.15)\n",
    "plt.figlegend(fontsize=10, ncols=3, frameon=False, loc=\"center\", bbox_to_anchor=(0.5, 0.02), handleheight=2)\n",
    "plt.show()\n",
    ";"
   ]
  },
  {
   "cell_type": "code",
   "execution_count": null,
   "metadata": {},
   "outputs": [],
   "source": []
  }
 ],
 "metadata": {
  "kernelspec": {
   "display_name": "Python_-_PL-JNiHWLEw",
   "language": "python",
   "name": "python3"
  },
  "language_info": {
   "codemirror_mode": {
    "name": "ipython",
    "version": 3
   },
   "file_extension": ".py",
   "mimetype": "text/x-python",
   "name": "python",
   "nbconvert_exporter": "python",
   "pygments_lexer": "ipython3",
   "version": "3.10.5"
  },
  "orig_nbformat": 4,
  "vscode": {
   "interpreter": {
    "hash": "325be9f0fc81ba7eb7abc100de6dcf42eb5ff1871ebe03c206eb3219244c2441"
   }
  }
 },
 "nbformat": 4,
 "nbformat_minor": 2
}
